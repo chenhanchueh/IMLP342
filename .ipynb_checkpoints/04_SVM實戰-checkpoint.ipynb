{
  "nbformat": 4,
  "nbformat_minor": 0,
  "metadata": {
    "kernelspec": {
      "display_name": "Python 3",
      "language": "python",
      "name": "python3"
    },
    "language_info": {
      "codemirror_mode": {
        "name": "ipython",
        "version": 3
      },
      "file_extension": ".py",
      "mimetype": "text/x-python",
      "name": "python",
      "nbconvert_exporter": "python",
      "pygments_lexer": "ipython3",
      "version": "3.8.8"
    },
    "colab": {
      "name": "04_SVM實戰-checkpoint.ipynb",
      "provenance": [],
      "include_colab_link": true
    }
  },
  "cells": [
    {
      "cell_type": "markdown",
      "metadata": {
        "id": "view-in-github",
        "colab_type": "text"
      },
      "source": [
        "<a href=\"https://colab.research.google.com/github/chenhanchueh/IMLP342/blob/main/.ipynb_checkpoints/04_SVM%E5%AF%A6%E6%88%B0-checkpoint.ipynb\" target=\"_parent\"><img src=\"https://colab.research.google.com/assets/colab-badge.svg\" alt=\"Open In Colab\"/></a>"
      ]
    },
    {
      "cell_type": "markdown",
      "metadata": {
        "id": "uldh8V2dqvfE"
      },
      "source": [
        "# 乳癌資料庫預測SVM分類\n",
        ">使用scikit-learn 機器學習套件裡的SVR演算法\n",
        "\n",
        "* (一)引入函式庫及內建乳癌資料集<br>\n",
        "引入之函式庫如下<br>\n",
        "sklearn.datasets: 用來匯入內建之乳癌資料集`datasets.load_breast_cancer()`<br>\n",
        "sklearn.SVR: 支持向量機回歸分析之演算法<br>\n",
        "matplotlib.pyplot: 用來繪製影像"
      ]
    },
    {
      "cell_type": "code",
      "metadata": {
        "id": "i5bilt8mqvfE"
      },
      "source": [
        "from sklearn import svm\n",
        "from sklearn import datasets\n",
        "from sklearn.model_selection import train_test_split\n",
        "from sklearn import metrics"
      ],
      "execution_count": 1,
      "outputs": []
    },
    {
      "cell_type": "markdown",
      "metadata": {
        "id": "zKOPW9O2qvfF"
      },
      "source": [
        "## Step1. 下載資料"
      ]
    },
    {
      "cell_type": "code",
      "metadata": {
        "id": "8vJ2IvvpqvfF"
      },
      "source": [
        "breast_cancer = datasets.load_breast_cancer()\n",
        "x = breast_cancer.data\n",
        "y = breast_cancer.target"
      ],
      "execution_count": 2,
      "outputs": []
    },
    {
      "cell_type": "code",
      "metadata": {
        "colab": {
          "base_uri": "https://localhost:8080/"
        },
        "id": "U6i6ufAeqvfG",
        "outputId": "d48e5151-9f1f-4481-b81b-75fb9d102417"
      },
      "source": [
        "x"
      ],
      "execution_count": 3,
      "outputs": [
        {
          "output_type": "execute_result",
          "data": {
            "text/plain": [
              "array([[1.799e+01, 1.038e+01, 1.228e+02, ..., 2.654e-01, 4.601e-01,\n",
              "        1.189e-01],\n",
              "       [2.057e+01, 1.777e+01, 1.329e+02, ..., 1.860e-01, 2.750e-01,\n",
              "        8.902e-02],\n",
              "       [1.969e+01, 2.125e+01, 1.300e+02, ..., 2.430e-01, 3.613e-01,\n",
              "        8.758e-02],\n",
              "       ...,\n",
              "       [1.660e+01, 2.808e+01, 1.083e+02, ..., 1.418e-01, 2.218e-01,\n",
              "        7.820e-02],\n",
              "       [2.060e+01, 2.933e+01, 1.401e+02, ..., 2.650e-01, 4.087e-01,\n",
              "        1.240e-01],\n",
              "       [7.760e+00, 2.454e+01, 4.792e+01, ..., 0.000e+00, 2.871e-01,\n",
              "        7.039e-02]])"
            ]
          },
          "metadata": {
            "tags": []
          },
          "execution_count": 3
        }
      ]
    },
    {
      "cell_type": "code",
      "metadata": {
        "colab": {
          "base_uri": "https://localhost:8080/"
        },
        "id": "HqUkXHv0qvfG",
        "outputId": "2a6c88e5-0f93-42d1-e438-0d46ca191f5f"
      },
      "source": [
        "y"
      ],
      "execution_count": 4,
      "outputs": [
        {
          "output_type": "execute_result",
          "data": {
            "text/plain": [
              "array([0, 0, 0, 0, 0, 0, 0, 0, 0, 0, 0, 0, 0, 0, 0, 0, 0, 0, 0, 1, 1, 1,\n",
              "       0, 0, 0, 0, 0, 0, 0, 0, 0, 0, 0, 0, 0, 0, 0, 1, 0, 0, 0, 0, 0, 0,\n",
              "       0, 0, 1, 0, 1, 1, 1, 1, 1, 0, 0, 1, 0, 0, 1, 1, 1, 1, 0, 1, 0, 0,\n",
              "       1, 1, 1, 1, 0, 1, 0, 0, 1, 0, 1, 0, 0, 1, 1, 1, 0, 0, 1, 0, 0, 0,\n",
              "       1, 1, 1, 0, 1, 1, 0, 0, 1, 1, 1, 0, 0, 1, 1, 1, 1, 0, 1, 1, 0, 1,\n",
              "       1, 1, 1, 1, 1, 1, 1, 0, 0, 0, 1, 0, 0, 1, 1, 1, 0, 0, 1, 0, 1, 0,\n",
              "       0, 1, 0, 0, 1, 1, 0, 1, 1, 0, 1, 1, 1, 1, 0, 1, 1, 1, 1, 1, 1, 1,\n",
              "       1, 1, 0, 1, 1, 1, 1, 0, 0, 1, 0, 1, 1, 0, 0, 1, 1, 0, 0, 1, 1, 1,\n",
              "       1, 0, 1, 1, 0, 0, 0, 1, 0, 1, 0, 1, 1, 1, 0, 1, 1, 0, 0, 1, 0, 0,\n",
              "       0, 0, 1, 0, 0, 0, 1, 0, 1, 0, 1, 1, 0, 1, 0, 0, 0, 0, 1, 1, 0, 0,\n",
              "       1, 1, 1, 0, 1, 1, 1, 1, 1, 0, 0, 1, 1, 0, 1, 1, 0, 0, 1, 0, 1, 1,\n",
              "       1, 1, 0, 1, 1, 1, 1, 1, 0, 1, 0, 0, 0, 0, 0, 0, 0, 0, 0, 0, 0, 0,\n",
              "       0, 0, 1, 1, 1, 1, 1, 1, 0, 1, 0, 1, 1, 0, 1, 1, 0, 1, 0, 0, 1, 1,\n",
              "       1, 1, 1, 1, 1, 1, 1, 1, 1, 1, 1, 0, 1, 1, 0, 1, 0, 1, 1, 1, 1, 1,\n",
              "       1, 1, 1, 1, 1, 1, 1, 1, 1, 0, 1, 1, 1, 0, 1, 0, 1, 1, 1, 1, 0, 0,\n",
              "       0, 1, 1, 1, 1, 0, 1, 0, 1, 0, 1, 1, 1, 0, 1, 1, 1, 1, 1, 1, 1, 0,\n",
              "       0, 0, 1, 1, 1, 1, 1, 1, 1, 1, 1, 1, 1, 0, 0, 1, 0, 0, 0, 1, 0, 0,\n",
              "       1, 1, 1, 1, 1, 0, 1, 1, 1, 1, 1, 0, 1, 1, 1, 0, 1, 1, 0, 0, 1, 1,\n",
              "       1, 1, 1, 1, 0, 1, 1, 1, 1, 1, 1, 1, 0, 1, 1, 1, 1, 1, 0, 1, 1, 0,\n",
              "       1, 1, 1, 1, 1, 1, 1, 1, 1, 1, 1, 1, 0, 1, 0, 0, 1, 0, 1, 1, 1, 1,\n",
              "       1, 0, 1, 1, 0, 1, 0, 1, 1, 0, 1, 0, 1, 1, 1, 1, 1, 1, 1, 1, 0, 0,\n",
              "       1, 1, 1, 1, 1, 1, 0, 1, 1, 1, 1, 1, 1, 1, 1, 1, 1, 0, 1, 1, 1, 1,\n",
              "       1, 1, 1, 0, 1, 0, 1, 1, 0, 1, 1, 1, 1, 1, 0, 0, 1, 0, 1, 0, 1, 1,\n",
              "       1, 1, 1, 0, 1, 1, 0, 1, 0, 1, 0, 0, 1, 1, 1, 0, 1, 1, 1, 1, 1, 1,\n",
              "       1, 1, 1, 1, 1, 0, 1, 0, 0, 1, 1, 1, 1, 1, 1, 1, 1, 1, 1, 1, 1, 1,\n",
              "       1, 1, 1, 1, 1, 1, 1, 1, 1, 1, 1, 1, 0, 0, 0, 0, 0, 0, 1])"
            ]
          },
          "metadata": {
            "tags": []
          },
          "execution_count": 4
        }
      ]
    },
    {
      "cell_type": "code",
      "metadata": {
        "colab": {
          "base_uri": "https://localhost:8080/"
        },
        "id": "km_KfKo-qvfG",
        "outputId": "84f2fe1a-87fb-443d-aff8-8f5c489e0d62"
      },
      "source": [
        "target_names = breast_cancer.target_names\n",
        "labels = target_names[y]\n",
        "labels"
      ],
      "execution_count": 5,
      "outputs": [
        {
          "output_type": "execute_result",
          "data": {
            "text/plain": [
              "array(['malignant', 'malignant', 'malignant', 'malignant', 'malignant',\n",
              "       'malignant', 'malignant', 'malignant', 'malignant', 'malignant',\n",
              "       'malignant', 'malignant', 'malignant', 'malignant', 'malignant',\n",
              "       'malignant', 'malignant', 'malignant', 'malignant', 'benign',\n",
              "       'benign', 'benign', 'malignant', 'malignant', 'malignant',\n",
              "       'malignant', 'malignant', 'malignant', 'malignant', 'malignant',\n",
              "       'malignant', 'malignant', 'malignant', 'malignant', 'malignant',\n",
              "       'malignant', 'malignant', 'benign', 'malignant', 'malignant',\n",
              "       'malignant', 'malignant', 'malignant', 'malignant', 'malignant',\n",
              "       'malignant', 'benign', 'malignant', 'benign', 'benign', 'benign',\n",
              "       'benign', 'benign', 'malignant', 'malignant', 'benign',\n",
              "       'malignant', 'malignant', 'benign', 'benign', 'benign', 'benign',\n",
              "       'malignant', 'benign', 'malignant', 'malignant', 'benign',\n",
              "       'benign', 'benign', 'benign', 'malignant', 'benign', 'malignant',\n",
              "       'malignant', 'benign', 'malignant', 'benign', 'malignant',\n",
              "       'malignant', 'benign', 'benign', 'benign', 'malignant',\n",
              "       'malignant', 'benign', 'malignant', 'malignant', 'malignant',\n",
              "       'benign', 'benign', 'benign', 'malignant', 'benign', 'benign',\n",
              "       'malignant', 'malignant', 'benign', 'benign', 'benign',\n",
              "       'malignant', 'malignant', 'benign', 'benign', 'benign', 'benign',\n",
              "       'malignant', 'benign', 'benign', 'malignant', 'benign', 'benign',\n",
              "       'benign', 'benign', 'benign', 'benign', 'benign', 'benign',\n",
              "       'malignant', 'malignant', 'malignant', 'benign', 'malignant',\n",
              "       'malignant', 'benign', 'benign', 'benign', 'malignant',\n",
              "       'malignant', 'benign', 'malignant', 'benign', 'malignant',\n",
              "       'malignant', 'benign', 'malignant', 'malignant', 'benign',\n",
              "       'benign', 'malignant', 'benign', 'benign', 'malignant', 'benign',\n",
              "       'benign', 'benign', 'benign', 'malignant', 'benign', 'benign',\n",
              "       'benign', 'benign', 'benign', 'benign', 'benign', 'benign',\n",
              "       'benign', 'malignant', 'benign', 'benign', 'benign', 'benign',\n",
              "       'malignant', 'malignant', 'benign', 'malignant', 'benign',\n",
              "       'benign', 'malignant', 'malignant', 'benign', 'benign',\n",
              "       'malignant', 'malignant', 'benign', 'benign', 'benign', 'benign',\n",
              "       'malignant', 'benign', 'benign', 'malignant', 'malignant',\n",
              "       'malignant', 'benign', 'malignant', 'benign', 'malignant',\n",
              "       'benign', 'benign', 'benign', 'malignant', 'benign', 'benign',\n",
              "       'malignant', 'malignant', 'benign', 'malignant', 'malignant',\n",
              "       'malignant', 'malignant', 'benign', 'malignant', 'malignant',\n",
              "       'malignant', 'benign', 'malignant', 'benign', 'malignant',\n",
              "       'benign', 'benign', 'malignant', 'benign', 'malignant',\n",
              "       'malignant', 'malignant', 'malignant', 'benign', 'benign',\n",
              "       'malignant', 'malignant', 'benign', 'benign', 'benign',\n",
              "       'malignant', 'benign', 'benign', 'benign', 'benign', 'benign',\n",
              "       'malignant', 'malignant', 'benign', 'benign', 'malignant',\n",
              "       'benign', 'benign', 'malignant', 'malignant', 'benign',\n",
              "       'malignant', 'benign', 'benign', 'benign', 'benign', 'malignant',\n",
              "       'benign', 'benign', 'benign', 'benign', 'benign', 'malignant',\n",
              "       'benign', 'malignant', 'malignant', 'malignant', 'malignant',\n",
              "       'malignant', 'malignant', 'malignant', 'malignant', 'malignant',\n",
              "       'malignant', 'malignant', 'malignant', 'malignant', 'malignant',\n",
              "       'benign', 'benign', 'benign', 'benign', 'benign', 'benign',\n",
              "       'malignant', 'benign', 'malignant', 'benign', 'benign',\n",
              "       'malignant', 'benign', 'benign', 'malignant', 'benign',\n",
              "       'malignant', 'malignant', 'benign', 'benign', 'benign', 'benign',\n",
              "       'benign', 'benign', 'benign', 'benign', 'benign', 'benign',\n",
              "       'benign', 'benign', 'benign', 'malignant', 'benign', 'benign',\n",
              "       'malignant', 'benign', 'malignant', 'benign', 'benign', 'benign',\n",
              "       'benign', 'benign', 'benign', 'benign', 'benign', 'benign',\n",
              "       'benign', 'benign', 'benign', 'benign', 'benign', 'malignant',\n",
              "       'benign', 'benign', 'benign', 'malignant', 'benign', 'malignant',\n",
              "       'benign', 'benign', 'benign', 'benign', 'malignant', 'malignant',\n",
              "       'malignant', 'benign', 'benign', 'benign', 'benign', 'malignant',\n",
              "       'benign', 'malignant', 'benign', 'malignant', 'benign', 'benign',\n",
              "       'benign', 'malignant', 'benign', 'benign', 'benign', 'benign',\n",
              "       'benign', 'benign', 'benign', 'malignant', 'malignant',\n",
              "       'malignant', 'benign', 'benign', 'benign', 'benign', 'benign',\n",
              "       'benign', 'benign', 'benign', 'benign', 'benign', 'benign',\n",
              "       'malignant', 'malignant', 'benign', 'malignant', 'malignant',\n",
              "       'malignant', 'benign', 'malignant', 'malignant', 'benign',\n",
              "       'benign', 'benign', 'benign', 'benign', 'malignant', 'benign',\n",
              "       'benign', 'benign', 'benign', 'benign', 'malignant', 'benign',\n",
              "       'benign', 'benign', 'malignant', 'benign', 'benign', 'malignant',\n",
              "       'malignant', 'benign', 'benign', 'benign', 'benign', 'benign',\n",
              "       'benign', 'malignant', 'benign', 'benign', 'benign', 'benign',\n",
              "       'benign', 'benign', 'benign', 'malignant', 'benign', 'benign',\n",
              "       'benign', 'benign', 'benign', 'malignant', 'benign', 'benign',\n",
              "       'malignant', 'benign', 'benign', 'benign', 'benign', 'benign',\n",
              "       'benign', 'benign', 'benign', 'benign', 'benign', 'benign',\n",
              "       'benign', 'malignant', 'benign', 'malignant', 'malignant',\n",
              "       'benign', 'malignant', 'benign', 'benign', 'benign', 'benign',\n",
              "       'benign', 'malignant', 'benign', 'benign', 'malignant', 'benign',\n",
              "       'malignant', 'benign', 'benign', 'malignant', 'benign',\n",
              "       'malignant', 'benign', 'benign', 'benign', 'benign', 'benign',\n",
              "       'benign', 'benign', 'benign', 'malignant', 'malignant', 'benign',\n",
              "       'benign', 'benign', 'benign', 'benign', 'benign', 'malignant',\n",
              "       'benign', 'benign', 'benign', 'benign', 'benign', 'benign',\n",
              "       'benign', 'benign', 'benign', 'benign', 'malignant', 'benign',\n",
              "       'benign', 'benign', 'benign', 'benign', 'benign', 'benign',\n",
              "       'malignant', 'benign', 'malignant', 'benign', 'benign',\n",
              "       'malignant', 'benign', 'benign', 'benign', 'benign', 'benign',\n",
              "       'malignant', 'malignant', 'benign', 'malignant', 'benign',\n",
              "       'malignant', 'benign', 'benign', 'benign', 'benign', 'benign',\n",
              "       'malignant', 'benign', 'benign', 'malignant', 'benign',\n",
              "       'malignant', 'benign', 'malignant', 'malignant', 'benign',\n",
              "       'benign', 'benign', 'malignant', 'benign', 'benign', 'benign',\n",
              "       'benign', 'benign', 'benign', 'benign', 'benign', 'benign',\n",
              "       'benign', 'benign', 'malignant', 'benign', 'malignant',\n",
              "       'malignant', 'benign', 'benign', 'benign', 'benign', 'benign',\n",
              "       'benign', 'benign', 'benign', 'benign', 'benign', 'benign',\n",
              "       'benign', 'benign', 'benign', 'benign', 'benign', 'benign',\n",
              "       'benign', 'benign', 'benign', 'benign', 'benign', 'benign',\n",
              "       'benign', 'benign', 'malignant', 'malignant', 'malignant',\n",
              "       'malignant', 'malignant', 'malignant', 'benign'], dtype='<U9')"
            ]
          },
          "metadata": {
            "tags": []
          },
          "execution_count": 5
        }
      ]
    },
    {
      "cell_type": "markdown",
      "metadata": {
        "id": "xwKHGQ2iqvfH"
      },
      "source": [
        "## Step2. 區分訓練集與測試集"
      ]
    },
    {
      "cell_type": "code",
      "metadata": {
        "id": "GdFlpu10qvfH"
      },
      "source": [
        "x_train, x_test, y_train, y_test = train_test_split(x, y,test_size= 0.3, random_state= 100)"
      ],
      "execution_count": 6,
      "outputs": []
    },
    {
      "cell_type": "markdown",
      "metadata": {
        "id": "N0zLwVabqvfH"
      },
      "source": [
        "## Step3. 建模"
      ]
    },
    {
      "cell_type": "code",
      "metadata": {
        "id": "y87snUIHqvfI"
      },
      "source": [
        "clf = svm.SVC(kernel= 'poly')\n",
        "clf.fit(x_train, y_train)"
      ],
      "execution_count": null,
      "outputs": []
    },
    {
      "cell_type": "markdown",
      "metadata": {
        "id": "P3XmKyIBqvfI"
      },
      "source": [
        "## Step4. 預測"
      ]
    },
    {
      "cell_type": "code",
      "metadata": {
        "id": "dGDHkPkRqvfI"
      },
      "source": [
        "y_pred = clf.predict(x_test)\n",
        "y_pred"
      ],
      "execution_count": null,
      "outputs": []
    },
    {
      "cell_type": "markdown",
      "metadata": {
        "id": "Nt8hqdlDqvfI"
      },
      "source": [
        "## Step5. 準確度分析"
      ]
    },
    {
      "cell_type": "code",
      "metadata": {
        "id": "45tI1HPqqvfJ"
      },
      "source": [
        "print(metrics.confusion_matrix(y_test, y_pred))"
      ],
      "execution_count": null,
      "outputs": []
    },
    {
      "cell_type": "code",
      "metadata": {
        "id": "7zD2FGWyqvfJ"
      },
      "source": [
        "print(metrics.classification_report(y_test, y_pred))"
      ],
      "execution_count": null,
      "outputs": []
    },
    {
      "cell_type": "code",
      "metadata": {
        "id": "7HExvyCCvlUe"
      },
      "source": [
        "metrics.plot_roc_curve(svm, x_test, y_test)\n",
        "plt.show()"
      ],
      "execution_count": null,
      "outputs": []
    }
  ]
}