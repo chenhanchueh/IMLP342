{
  "nbformat": 4,
  "nbformat_minor": 0,
  "metadata": {
    "kernelspec": {
      "display_name": "Python 3",
      "language": "python",
      "name": "python3"
    },
    "language_info": {
      "codemirror_mode": {
        "name": "ipython",
        "version": 3
      },
      "file_extension": ".py",
      "mimetype": "text/x-python",
      "name": "python",
      "nbconvert_exporter": "python",
      "pygments_lexer": "ipython3",
      "version": "3.8.8"
    },
    "colab": {
      "name": "Linear Regression_HW-checkpoint.ipynb",
      "provenance": [],
      "include_colab_link": true
    }
  },
  "cells": [
    {
      "cell_type": "markdown",
      "metadata": {
        "id": "view-in-github",
        "colab_type": "text"
      },
      "source": [
        "<a href=\"https://colab.research.google.com/github/chenhanchueh/IMLP342/blob/main/.ipynb_checkpoints/Linear%20Regression_HW-checkpoint.ipynb\" target=\"_parent\"><img src=\"https://colab.research.google.com/assets/colab-badge.svg\" alt=\"Open In Colab\"/></a>"
      ]
    },
    {
      "cell_type": "markdown",
      "metadata": {
        "id": "Mhd0UWIOAX24"
      },
      "source": [
        "## 基礎題 - 算出斜率w與截距b\n",
        "\n",
        "y = wx + b\n",
        "\n",
        "記得計算前X須符合資料格式\n",
        "$$[x_1, x_2, \\ldots, x_{50}]$$\n",
        "\n",
        "==> \n",
        "\n",
        "$$[[x_1], [x_2], \\ldots, [x_{50}]]$$"
      ]
    },
    {
      "cell_type": "code",
      "metadata": {
        "id": "BiZoL4ILAX27"
      },
      "source": [
        "%matplotlib inline\n",
        "import numpy as np\n",
        "import matplotlib.pyplot as plt"
      ],
      "execution_count": 24,
      "outputs": []
    },
    {
      "cell_type": "code",
      "metadata": {
        "id": "sQYi8J38AX28"
      },
      "source": [
        "x = np.array([ 0.        ,  0.20408163,  0.40816327,  0.6122449 ,  0.81632653,\n",
        "        1.02040816,  1.2244898 ,  1.42857143,  1.63265306,  1.83673469,\n",
        "        2.04081633,  2.24489796,  2.44897959,  2.65306122,  2.85714286,\n",
        "        3.06122449,  3.26530612,  3.46938776,  3.67346939,  3.87755102,\n",
        "        4.08163265,  4.28571429,  4.48979592,  4.69387755,  4.89795918,\n",
        "        5.10204082,  5.30612245,  5.51020408,  5.71428571,  5.91836735,\n",
        "        6.12244898,  6.32653061,  6.53061224,  6.73469388,  6.93877551,\n",
        "        7.14285714,  7.34693878,  7.55102041,  7.75510204,  7.95918367,\n",
        "        8.16326531,  8.36734694,  8.57142857,  8.7755102 ,  8.97959184,\n",
        "        9.18367347,  9.3877551 ,  9.59183673,  9.79591837, 10.        ])\n",
        "y = np.array([ 0.85848224, -0.10657947,  1.42771901,  0.53554778,  1.20216826,\n",
        "        1.81330509,  1.88362644,  2.23557653,  2.7384889 ,  3.41174583,\n",
        "        4.08573636,  3.82529502,  4.39723111,  4.8852381 ,  4.70092778,\n",
        "        4.66993962,  6.05133235,  5.44529881,  7.22571332,  6.79423911,\n",
        "        7.05424438,  7.00413058,  7.98149596,  7.00044008,  7.95903855,\n",
        "        9.96125238,  9.06040794,  9.56018295,  9.30035956,  9.26517614,\n",
        "        9.56401824, 10.07659844, 11.56755942, 11.38956185, 11.83586027,\n",
        "       12.45642786, 11.58403954, 11.60186428, 13.88486667, 13.35550112,\n",
        "       13.93938726, 13.31678277, 13.69551472, 14.76548676, 14.81731598,\n",
        "       14.9659187 , 15.19213921, 15.28195017, 15.97997265, 16.41258817])"
      ],
      "execution_count": 3,
      "outputs": []
    },
    {
      "cell_type": "code",
      "metadata": {
        "id": "tzGAvJUqAX29",
        "outputId": "62cae7e4-8a2c-4def-a169-54859afa0029",
        "colab": {
          "base_uri": "https://localhost:8080/"
        }
      },
      "source": [
        "#匯入在sklearn.linear_model套件裡面的LinearRegression模型\n",
        "from sklearn.linear_model import LinearRegression\n",
        "\n",
        "#將模型工具指派給一變數做使用\n",
        "reg = LinearRegression()\n",
        "\n",
        "#注意轉換x得格式1D->2D\n",
        "X = x.reshape(-1, 1)\n",
        "\n",
        "#將x,y資料導入LinearRegression演算法做訓練\n",
        "reg.fit(X, Y)\n",
        "\n",
        "#列印出訓練完成之函數的斜率與截距\n",
        "print(\"coefficient: \", reg.coef_)\n",
        "print(\"interception: \", reg.intercept_)"
      ],
      "execution_count": 21,
      "outputs": [
        {
          "output_type": "stream",
          "text": [
            "coefficient:  [[1.61701852]]\n",
            "interception:  [0.27312969]\n"
          ],
          "name": "stdout"
        }
      ]
    },
    {
      "cell_type": "markdown",
      "metadata": {
        "id": "7nIrBb9xAX29"
      },
      "source": [
        "## 進階題 - 切割資料集分別做訓練與預測(訓練資料80%、測試資料20%)\n"
      ]
    },
    {
      "cell_type": "code",
      "metadata": {
        "id": "2V4DSBBLAX29"
      },
      "source": [
        "%matplotlib inline\n",
        "import numpy as np\n",
        "import matplotlib.pyplot as plt\n",
        "\n",
        "x = np.array([ 0.        ,  0.20408163,  0.40816327,  0.6122449 ,  0.81632653,\n",
        "        1.02040816,  1.2244898 ,  1.42857143,  1.63265306,  1.83673469,\n",
        "        2.04081633,  2.24489796,  2.44897959,  2.65306122,  2.85714286,\n",
        "        3.06122449,  3.26530612,  3.46938776,  3.67346939,  3.87755102,\n",
        "        4.08163265,  4.28571429,  4.48979592,  4.69387755,  4.89795918,\n",
        "        5.10204082,  5.30612245,  5.51020408,  5.71428571,  5.91836735,\n",
        "        6.12244898,  6.32653061,  6.53061224,  6.73469388,  6.93877551,\n",
        "        7.14285714,  7.34693878,  7.55102041,  7.75510204,  7.95918367,\n",
        "        8.16326531,  8.36734694,  8.57142857,  8.7755102 ,  8.97959184,\n",
        "        9.18367347,  9.3877551 ,  9.59183673,  9.79591837, 10.        ])\n",
        "y = np.array([ 0.85848224, -0.10657947,  1.42771901,  0.53554778,  1.20216826,\n",
        "        1.81330509,  1.88362644,  2.23557653,  2.7384889 ,  3.41174583,\n",
        "        4.08573636,  3.82529502,  4.39723111,  4.8852381 ,  4.70092778,\n",
        "        4.66993962,  6.05133235,  5.44529881,  7.22571332,  6.79423911,\n",
        "        7.05424438,  7.00413058,  7.98149596,  7.00044008,  7.95903855,\n",
        "        9.96125238,  9.06040794,  9.56018295,  9.30035956,  9.26517614,\n",
        "        9.56401824, 10.07659844, 11.56755942, 11.38956185, 11.83586027,\n",
        "       12.45642786, 11.58403954, 11.60186428, 13.88486667, 13.35550112,\n",
        "       13.93938726, 13.31678277, 13.69551472, 14.76548676, 14.81731598,\n",
        "       14.9659187 , 15.19213921, 15.28195017, 15.97997265, 16.41258817])\n"
      ],
      "execution_count": 17,
      "outputs": []
    },
    {
      "cell_type": "code",
      "metadata": {
        "id": "JtluT_jVAX2-",
        "outputId": "1cee7a74-4653-4640-efaa-61b489ec0a10",
        "colab": {
          "base_uri": "https://localhost:8080/",
          "height": 283
        }
      },
      "source": [
        "#匯入在sklearn.linear_model套件裡面的LinearRegression模型\n",
        "from sklearn.linear_model import LinearRegression\n",
        "\n",
        "#匯入在sklearn.model_selection套件裡面的train_test_split模組\n",
        "from sklearn.model_selection import train_test_split\n",
        "\n",
        "#切割數據集(訓練資料80%、測試資料20%，設定random_state=20)\n",
        "x_train, x_test, y_train, y_test = train_test_split(x, y, test_size = 0.2, random_state = 20)\n",
        "\n",
        "#畫出訓練資料集的matplotlib圖形m\n",
        "plt.scatter(x_train, y_train)"
      ],
      "execution_count": 18,
      "outputs": [
        {
          "output_type": "execute_result",
          "data": {
            "text/plain": [
              "<matplotlib.collections.PathCollection at 0x7faeb925f490>"
            ]
          },
          "metadata": {
            "tags": []
          },
          "execution_count": 18
        },
        {
          "output_type": "display_data",
          "data": {
            "image/png": "[encoded data removed]",
            "text/plain": [
              "<Figure size 432x288 with 1 Axes>"
            ]
          },
          "metadata": {
            "tags": [],
            "needs_background": "light"
          }
        }
      ]
    },
    {
      "cell_type": "markdown",
      "metadata": {
        "id": "mzBtNqx6AX2-"
      },
      "source": [
        "## 用訓練資料來 fit 函數\n",
        "1. 只用訓練資料集的資料進行linear regression演算法<br>\n",
        "2. 並計算出訓練階段的MSE\n",
        "3. 畫出目標點(藍色)與預測點(紅色)的對應圖\n",
        "![](https://github.com/chenhanchueh/IMLP342/blob/main/.ipynb_checkpoints/images/LR_train.PNG?raw=1)"
      ]
    },
    {
      "cell_type": "code",
      "metadata": {
        "id": "noVTt5v_AX2_",
        "outputId": "e1550717-78c9-4529-8e81-9c558220e3bf",
        "colab": {
          "base_uri": "https://localhost:8080/"
        }
      },
      "source": [
        "#只用訓練資料集的資料進行linear regression演算法\n",
        "reg = LinearRegression()\n",
        "X_train = x_train.reshape(-1, 1)\n",
        "reg.fit(X_train, y_train)\n",
        "print(\"coefficient: \", reg.coef_)\n",
        "print(\"interception: \", reg.intercept_)"
      ],
      "execution_count": 22,
      "outputs": [
        {
          "output_type": "stream",
          "text": [
            "coefficient:  [1.60659227]\n",
            "interception:  0.36802581786862376\n"
          ],
          "name": "stdout"
        }
      ]
    },
    {
      "cell_type": "code",
      "metadata": {
        "id": "5gfEb_9HAX2_",
        "outputId": "d892c516-efa2-4757-e6c8-0635eb68ae0d",
        "colab": {
          "base_uri": "https://localhost:8080/"
        }
      },
      "source": [
        "#並計算出訓練階段的MSE\n",
        "Y_train = reg.predict(X_train)\n",
        "mse = np.sum((Y_train - y_train) ** 2) / len(y_train)\n",
        "print(\"MSE: \", mse)"
      ],
      "execution_count": 28,
      "outputs": [
        {
          "output_type": "stream",
          "text": [
            "MSE:  0.2284495300761316\n"
          ],
          "name": "stdout"
        }
      ]
    },
    {
      "cell_type": "code",
      "metadata": {
        "id": "xDjuKxu9GpfK",
        "outputId": "53687f7e-311b-4d63-bbbe-daecdf8cc644",
        "colab": {
          "base_uri": "https://localhost:8080/",
          "height": 283
        }
      },
      "source": [
        "#畫出目標點(藍色)與預測點(紅色)的對應圖\n",
        "plt.scatter(x_train, y_train)\n",
        "plt.scatter(x_train, Y_train, c = \"r\")"
      ],
      "execution_count": 51,
      "outputs": [
        {
          "output_type": "execute_result",
          "data": {
            "text/plain": [
              "<matplotlib.collections.PathCollection at 0x7faeb85a9f90>"
            ]
          },
          "metadata": {
            "tags": []
          },
          "execution_count": 51
        },
        {
          "output_type": "display_data",
          "data": {
            "image/png": "[encoded data removed]",
            "text/plain": [
              "<Figure size 432x288 with 1 Axes>"
            ]
          },
          "metadata": {
            "tags": [],
            "needs_background": "light"
          }
        }
      ]
    },
    {
      "cell_type": "markdown",
      "metadata": {
        "id": "ZBXidmPvAX2_"
      },
      "source": [
        "## 將訓練出來的函數預測測試集的X值\n",
        "1. 使用剛剛訓練出來的模型進行測試資料集的資料預測*注意reshape<br>\n",
        "使用X = 2.44897959，預測出來數值應該為 4.3025375<br>\n",
        "所有測試集資料\n",
        "$$\\widehat{y}=xw+b=w_{1}x_{1}+b$$"
      ]
    },
    {
      "cell_type": "code",
      "metadata": {
        "id": "9bqpTIFiAX2_",
        "outputId": "9b7bf2a3-89aa-4c7b-a876-991274459e2f",
        "colab": {
          "base_uri": "https://localhost:8080/"
        }
      },
      "source": [
        "X_test = x_test.reshape(-1, 1)\n",
        "Y_test = reg.predict(X_test)\n",
        "\n",
        "print(X_test)\n",
        "print(Y_test)"
      ],
      "execution_count": 35,
      "outputs": [
        {
          "output_type": "stream",
          "text": [
            "[[2.44897959]\n",
            " [2.85714286]\n",
            " [0.81632653]\n",
            " [1.63265306]\n",
            " [9.18367347]\n",
            " [0.20408163]\n",
            " [5.10204082]\n",
            " [4.89795918]\n",
            " [9.59183673]\n",
            " [4.69387755]]\n",
            "[ 4.3025375   4.95828946  1.67952971  2.99103361 15.12244466  0.69590179\n",
            "  8.56492518  8.23704919 15.7781966   7.90917322]\n"
          ],
          "name": "stdout"
        }
      ]
    },
    {
      "cell_type": "code",
      "metadata": {
        "id": "98C-LTcNAX3A",
        "outputId": "71179a9a-867b-403f-d2ad-4205e9bb3533",
        "colab": {
          "base_uri": "https://localhost:8080/"
        }
      },
      "source": [
        "#Y=WX+b\n",
        "reg.coef_ * X_test + reg.intercept_"
      ],
      "execution_count": 30,
      "outputs": [
        {
          "output_type": "execute_result",
          "data": {
            "text/plain": [
              "array([[ 4.3025375 ],\n",
              "       [ 4.95828946],\n",
              "       [ 1.67952971],\n",
              "       [ 2.99103361],\n",
              "       [15.12244466],\n",
              "       [ 0.69590179],\n",
              "       [ 8.56492518],\n",
              "       [ 8.23704919],\n",
              "       [15.7781966 ],\n",
              "       [ 7.90917322]])"
            ]
          },
          "metadata": {
            "tags": []
          },
          "execution_count": 30
        }
      ]
    },
    {
      "cell_type": "markdown",
      "metadata": {
        "id": "Nt1fxptdAX3A"
      },
      "source": [
        "2. 並計算出測試階段的MSE"
      ]
    },
    {
      "cell_type": "code",
      "metadata": {
        "id": "DmHpgKWIAX3A",
        "outputId": "61c30cc4-74ea-4a11-e549-a11fc7d6b1b1",
        "colab": {
          "base_uri": "https://localhost:8080/"
        }
      },
      "source": [
        "mse = np.sum((Y_test - y_test) ** 2) / len(y_test)\n",
        "print(\"MSE: \", mse)"
      ],
      "execution_count": 31,
      "outputs": [
        {
          "output_type": "stream",
          "text": [
            "MSE:  0.41344072565862955\n"
          ],
          "name": "stdout"
        }
      ]
    },
    {
      "cell_type": "markdown",
      "metadata": {
        "id": "tsi_e8BnAX3A"
      },
      "source": [
        "3. 畫出目標點(藍色)與預測點(紅色)的對應圖\n",
        "![](https://github.com/chenhanchueh/IMLP342/blob/main/.ipynb_checkpoints/images/LR_test.PNG?raw=1)"
      ]
    },
    {
      "cell_type": "code",
      "metadata": {
        "id": "Tba5NGgbAX3A",
        "outputId": "3e74f89e-118d-43d9-88a8-d042a45c8a23",
        "colab": {
          "base_uri": "https://localhost:8080/",
          "height": 313
        }
      },
      "source": [
        "title = \"f(x) = 1.6x + 0.4\" + \", MSE: \" + str(round(mse, 2))\n",
        "plt.title(title)\n",
        "plt.xlabel(\"x\")\n",
        "plt.ylabel(\"y\")\n",
        "plt.scatter(x_test, y_test, alpha = 0.8, label = \"Ground Truth\")\n",
        "plt.scatter(x_test, Y_test, c = \"r\", alpha = 0.8, label = \"Predict\")\n",
        "plt.legend()"
      ],
      "execution_count": 52,
      "outputs": [
        {
          "output_type": "execute_result",
          "data": {
            "text/plain": [
              "<matplotlib.legend.Legend at 0x7faeb891ed90>"
            ]
          },
          "metadata": {
            "tags": []
          },
          "execution_count": 52
        },
        {
          "output_type": "display_data",
          "data": {
            "image/png": "[encoded data removed]",
            "text/plain": [
              "<Figure size 432x288 with 1 Axes>"
            ]
          },
          "metadata": {
            "tags": [],
            "needs_background": "light"
          }
        }
      ]
    }
  ]
}