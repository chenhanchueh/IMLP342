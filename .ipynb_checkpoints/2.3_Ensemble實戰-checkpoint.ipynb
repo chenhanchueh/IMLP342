{
  "nbformat": 4,
  "nbformat_minor": 5,
  "metadata": {
    "kernelspec": {
      "display_name": "Python 3",
      "language": "python",
      "name": "python3"
    },
    "language_info": {
      "codemirror_mode": {
        "name": "ipython",
        "version": 3
      },
      "file_extension": ".py",
      "mimetype": "text/x-python",
      "name": "python",
      "nbconvert_exporter": "python",
      "pygments_lexer": "ipython3",
      "version": "3.8.8"
    },
    "colab": {
      "name": "2.3_Ensemble實戰-checkpoint.ipynb",
      "provenance": [],
      "include_colab_link": true
    }
  },
  "cells": [
    {
      "cell_type": "markdown",
      "metadata": {
        "id": "view-in-github",
        "colab_type": "text"
      },
      "source": [
        "<a href=\"https://colab.research.google.com/github/chenhanchueh/IMLP342/blob/main/.ipynb_checkpoints/2.3_Ensemble%E5%AF%A6%E6%88%B0-checkpoint.ipynb\" target=\"_parent\"><img src=\"https://colab.research.google.com/assets/colab-badge.svg\" alt=\"Open In Colab\"/></a>"
      ]
    },
    {
      "cell_type": "markdown",
      "metadata": {
        "id": "3129ab3d"
      },
      "source": [
        "# Ensemble/Voting Classification in Python with Scikit-Learn\n",
        "ref：https://www.kaggle.com/c/titanic/submit"
      ],
      "id": "3129ab3d"
    },
    {
      "cell_type": "code",
      "metadata": {
        "id": "c6b020b8"
      },
      "source": [
        "import pandas as pd\n",
        "import numpy as np\n",
        "import matplotlib.pyplot as plt\n",
        "import warnings\n",
        "\n",
        "from sklearn.preprocessing import LabelEncoder, StandardScaler\n",
        "from sklearn.metrics import accuracy_score, f1_score, log_loss\n",
        "from sklearn.model_selection import train_test_split, KFold, cross_val_score\n",
        "\n",
        "from sklearn.svm import SVC\n",
        "from sklearn.linear_model import LogisticRegression\n",
        "from sklearn.tree import DecisionTreeClassifier\n",
        "from sklearn.ensemble import VotingClassifier\n",
        "from sklearn.ensemble import BaggingClassifier\n",
        "from sklearn.ensemble import AdaBoostClassifier, RandomForestClassifier, ExtraTreesClassifier"
      ],
      "id": "c6b020b8",
      "execution_count": 12,
      "outputs": []
    },
    {
      "cell_type": "code",
      "metadata": {
        "id": "O3X1AnL64MLh",
        "colab": {
          "base_uri": "https://localhost:8080/"
        },
        "outputId": "f800df9c-2bdb-405d-8ce1-50c8a291b372"
      },
      "source": [
        "from google.colab import drive\n",
        "drive.mount('/content/drive')"
      ],
      "id": "O3X1AnL64MLh",
      "execution_count": 3,
      "outputs": [
        {
          "output_type": "stream",
          "text": [
            "Mounted at /content/drive\n"
          ],
          "name": "stdout"
        }
      ]
    },
    {
      "cell_type": "code",
      "metadata": {
        "scrolled": true,
        "id": "7163b994",
        "colab": {
          "base_uri": "https://localhost:8080/"
        },
        "outputId": "99908395-9a31-4e64-db7f-3a475b74c847"
      },
      "source": [
        "training_data = pd.read_csv(\"/content/train.csv\")\n",
        "testing_data = pd.read_csv(\"/content/test.csv\")\n",
        "\n",
        "def get_nulls(training, testing):\n",
        "    print(\"Training Data:\")\n",
        "    print(pd.isnull(training).sum())\n",
        "    print(\"Testing Data:\")\n",
        "    print(pd.isnull(testing).sum())\n",
        "\n",
        "get_nulls(training_data, testing_data)"
      ],
      "id": "7163b994",
      "execution_count": 5,
      "outputs": [
        {
          "output_type": "stream",
          "text": [
            "Training Data:\n",
            "PassengerId      0\n",
            "Survived         0\n",
            "Pclass           0\n",
            "Name             0\n",
            "Sex              0\n",
            "Age            177\n",
            "SibSp            0\n",
            "Parch            0\n",
            "Ticket           0\n",
            "Fare             0\n",
            "Cabin          687\n",
            "Embarked         2\n",
            "dtype: int64\n",
            "Testing Data:\n",
            "PassengerId      0\n",
            "Pclass           0\n",
            "Name             0\n",
            "Sex              0\n",
            "Age             86\n",
            "SibSp            0\n",
            "Parch            0\n",
            "Ticket           0\n",
            "Fare             1\n",
            "Cabin          327\n",
            "Embarked         0\n",
            "dtype: int64\n"
          ],
          "name": "stdout"
        }
      ]
    },
    {
      "cell_type": "code",
      "metadata": {
        "id": "ffd6109f",
        "colab": {
          "base_uri": "https://localhost:8080/"
        },
        "outputId": "3a4c2a40-c3af-4481-a15d-0ec15799377e"
      },
      "source": [
        "# Drop the cabin column, as there are too many missing values\n",
        "# Drop the ticket numbers too, as there are too many categories\n",
        "# Drop names as they won't really help predict survivors\n",
        "training_data.drop(labels= [\"Cabin\", \"Ticket\", \"Name\"], axis= 1, inplace= True)\n",
        "testing_data.drop(labels= [\"Cabin\", \"Ticket\", \"Name\"], axis= 1, inplace= True)\n",
        "\n",
        "# Taking the mean/average value would be impacted by the skew\n",
        "# so we should use the median value to impute missing values\n",
        "training_data[\"Age\"].fillna(training_data[\"Age\"].median(),inplace=True)\n",
        "testing_data[\"Age\"].fillna(training_data[\"Age\"].median(),inplace=True)\n",
        "training_data[\"Embarked\"].fillna(\"S\",inplace=True)\n",
        "testing_data[\"Fare\"].fillna(training_data[\"Fare\"].median(),inplace=True)\n",
        "\n",
        "get_nulls(training_data, testing_data)"
      ],
      "id": "ffd6109f",
      "execution_count": 6,
      "outputs": [
        {
          "output_type": "stream",
          "text": [
            "Training Data:\n",
            "PassengerId    0\n",
            "Survived       0\n",
            "Pclass         0\n",
            "Sex            0\n",
            "Age            0\n",
            "SibSp          0\n",
            "Parch          0\n",
            "Fare           0\n",
            "Embarked       0\n",
            "dtype: int64\n",
            "Testing Data:\n",
            "PassengerId    0\n",
            "Pclass         0\n",
            "Sex            0\n",
            "Age            0\n",
            "SibSp          0\n",
            "Parch          0\n",
            "Fare           0\n",
            "Embarked       0\n",
            "dtype: int64\n"
          ],
          "name": "stdout"
        }
      ]
    },
    {
      "cell_type": "code",
      "metadata": {
        "id": "19e4f59b"
      },
      "source": [
        "# Fit the encoder on the data (Feature: Sex)\n",
        "encoder_1 = LabelEncoder()\n",
        "encoder_1.fit(training_data[\"Sex\"])\n",
        "\n",
        "# Transform and replace training data\n",
        "training_sex_encoded = encoder_1.transform(training_data[\"Sex\"])\n",
        "training_data[\"Sex\"] = training_sex_encoded\n",
        "test_sex_encoded = encoder_1.transform(testing_data[\"Sex\"])\n",
        "testing_data[\"Sex\"] = test_sex_encoded\n",
        "\n",
        "# Fit the encoder on the data (Feature: Embarked)\n",
        "encoder_2 = LabelEncoder()\n",
        "encoder_2.fit(training_data[\"Embarked\"])\n",
        "\n",
        "training_embarked_encoded = encoder_2.transform(training_data[\"Embarked\"])\n",
        "training_data[\"Embarked\"] = training_embarked_encoded\n",
        "test_embarked_encoded = encoder_2.transform(testing_data[\"Embarked\"])\n",
        "testing_data[\"Embarked\"] = test_embarked_encoded\n",
        "\n",
        "# Any value we want to reshape needs be turned into array first\n",
        "ages_train = np.array(training_data[\"Age\"]).reshape(-1, 1)\n",
        "ages_test = np.array(testing_data[\"Age\"]).reshape(-1, 1)\n",
        "fare_train = np.array(training_data[\"Fare\"]).reshape(-1, 1)\n",
        "fare_test = np.array(testing_data[\"Fare\"]).reshape(-1, 1)\n",
        "\n",
        "# Scaler takes arrays\n",
        "scaler = StandardScaler()\n",
        "\n",
        "training_data[\"Age\"] = scaler.fit_transform(ages_train)\n",
        "testing_data[\"Age\"] = scaler.fit_transform(ages_test)\n",
        "training_data[\"Fare\"] = scaler.fit_transform(fare_train)\n",
        "testing_data[\"Fare\"] = scaler.fit_transform(fare_test)"
      ],
      "id": "19e4f59b",
      "execution_count": 7,
      "outputs": []
    },
    {
      "cell_type": "code",
      "metadata": {
        "id": "65bd0090",
        "colab": {
          "base_uri": "https://localhost:8080/"
        },
        "outputId": "b2415b61-b2cf-471f-8a4b-01b8ee143ff8"
      },
      "source": [
        "# Now to select our training/testing data\n",
        "X_features = training_data.drop(labels=['PassengerId', 'Survived'], axis=1)\n",
        "y_labels = training_data['Survived']\n",
        "\n",
        "print(X_features.head(5))\n",
        "print(y_labels.head(5))\n",
        "\n",
        "# Make the train/test data from validation\n",
        "\n",
        "X_train, X_val, y_train, y_val = train_test_split(X_features, y_labels, test_size=0.1,random_state=12)"
      ],
      "id": "65bd0090",
      "execution_count": 8,
      "outputs": [
        {
          "output_type": "stream",
          "text": [
            "   Pclass  Sex       Age  SibSp  Parch      Fare  Embarked\n",
            "0       3    1 -0.565736      1      0 -0.502445         2\n",
            "1       1    0  0.663861      1      0  0.786845         0\n",
            "2       3    0 -0.258337      0      0 -0.488854         2\n",
            "3       1    0  0.433312      1      0  0.420730         2\n",
            "4       3    1  0.433312      0      0 -0.486337         2\n",
            "0    0\n",
            "1    1\n",
            "2    1\n",
            "3    1\n",
            "4    0\n",
            "Name: Survived, dtype: int64\n"
          ],
          "name": "stdout"
        }
      ]
    },
    {
      "cell_type": "markdown",
      "metadata": {
        "id": "5652bc34"
      },
      "source": [
        "## Simple Averaging Approach"
      ],
      "id": "5652bc34"
    },
    {
      "cell_type": "code",
      "metadata": {
        "id": "9cd452cc",
        "colab": {
          "base_uri": "https://localhost:8080/"
        },
        "outputId": "bb501e66-ecf5-470a-8c73-c0ff977e3648"
      },
      "source": [
        "LogReg_clf = LogisticRegression()\n",
        "DTree_clf = DecisionTreeClassifier()\n",
        "SVC_clf = SVC()\n",
        "\n",
        "LogReg_clf.fit(X_train, y_train)\n",
        "DTree_clf.fit(X_train, y_train)\n",
        "SVC_clf.fit(X_train, y_train)\n",
        "\n",
        "LogReg_pred = LogReg_clf.predict(X_val)\n",
        "DTree_pred = DTree_clf.predict(X_val)\n",
        "SVC_pred = SVC_clf.predict(X_val)\n",
        "\n",
        "averaged_preds = (LogReg_pred + DTree_pred + SVC_pred)//3\n",
        "acc = accuracy_score(y_val, averaged_preds)\n",
        "print(acc)"
      ],
      "id": "9cd452cc",
      "execution_count": 26,
      "outputs": [
        {
          "output_type": "stream",
          "text": [
            "0.8\n"
          ],
          "name": "stdout"
        }
      ]
    },
    {
      "cell_type": "markdown",
      "metadata": {
        "id": "82d32100"
      },
      "source": [
        "## Bagging Classification Example"
      ],
      "id": "82d32100"
    },
    {
      "cell_type": "code",
      "metadata": {
        "id": "62ac47a5",
        "colab": {
          "base_uri": "https://localhost:8080/"
        },
        "outputId": "322a11f9-826f-4c02-8b91-9ecda9a251ab"
      },
      "source": [
        "logreg_bagging_model = BaggingClassifier(base_estimator= LogReg_clf, n_estimators= 50, random_state= 12)\n",
        "dtree_bagging_model = BaggingClassifier(base_estimator= DTree_clf, n_estimators= 50, random_state= 12)\n",
        "random_forest = RandomForestClassifier(n_estimators= 100, random_state= 12)\n",
        "extra_trees = ExtraTreesClassifier(n_estimators= 100, random_state= 12)\n",
        "\n",
        "def bagging_ensemble(model):\n",
        "    k_folds = KFold(n_splits=20, random_state=12,shuffle=True)\n",
        "    results = cross_val_score(model, X_train, y_train, cv=k_folds)\n",
        "    print(results.mean())\n",
        "\n",
        "bagging_ensemble(logreg_bagging_model)\n",
        "bagging_ensemble(dtree_bagging_model)\n",
        "bagging_ensemble(random_forest)\n",
        "bagging_ensemble(extra_trees)"
      ],
      "id": "62ac47a5",
      "execution_count": 13,
      "outputs": [
        {
          "output_type": "stream",
          "text": [
            "0.7927134146341464\n",
            "0.8138719512195122\n",
            "0.8113719512195123\n",
            "0.7963719512195122\n"
          ],
          "name": "stdout"
        }
      ]
    },
    {
      "cell_type": "code",
      "metadata": {
        "id": "foqM8CnmwWY1",
        "outputId": "527165c9-215d-443e-c18b-e381647b0782",
        "colab": {
          "base_uri": "https://localhost:8080/",
          "height": 1000
        }
      },
      "source": [
        "accuracy = []\n",
        "\n",
        "for i in range(50, 1000, 10):\n",
        "    k_folds = KFold(n_splits= 20, random_state= 12 ,shuffle= True)\n",
        "    dtree_bagging_model = BaggingClassifier(base_estimator= DTree_clf, n_estimators= i, random_state= 12)\n",
        "    results = cross_val_score(dtree_bagging_model, X_train, y_train, cv= k_folds)\n",
        "    print(\"Results for {} estimators:\".format(i))\n",
        "    print(results.mean())\n",
        "    accuracy.append(results.mean())\n",
        "\n",
        "i_range = range(50, 1000, 10)\n",
        "plt.plot(i_range, accuracy)\n",
        "plt.show()"
      ],
      "id": "foqM8CnmwWY1",
      "execution_count": 29,
      "outputs": [
        {
          "output_type": "stream",
          "text": [
            "Results for 50 estimators:\n",
            "0.8138719512195122\n",
            "Results for 60 estimators:\n",
            "0.8176219512195122\n",
            "Results for 70 estimators:\n",
            "0.8226219512195122\n",
            "Results for 80 estimators:\n",
            "0.8213719512195123\n",
            "Results for 90 estimators:\n",
            "0.8238719512195122\n",
            "Results for 100 estimators:\n",
            "0.8226219512195122\n",
            "Results for 110 estimators:\n",
            "0.8226219512195122\n",
            "Results for 120 estimators:\n",
            "0.8213719512195121\n",
            "Results for 130 estimators:\n",
            "0.8151219512195121\n",
            "Results for 140 estimators:\n",
            "0.8201219512195121\n",
            "Results for 150 estimators:\n",
            "0.8201219512195121\n",
            "Results for 160 estimators:\n",
            "0.8201219512195121\n",
            "Results for 170 estimators:\n",
            "0.8226219512195122\n",
            "Results for 180 estimators:\n",
            "0.8213719512195121\n",
            "Results for 190 estimators:\n",
            "0.8213719512195121\n",
            "Results for 200 estimators:\n",
            "0.8251219512195123\n",
            "Results for 210 estimators:\n",
            "0.8238719512195122\n",
            "Results for 220 estimators:\n",
            "0.8213719512195123\n",
            "Results for 230 estimators:\n",
            "0.8238719512195122\n",
            "Results for 240 estimators:\n",
            "0.8213719512195121\n",
            "Results for 250 estimators:\n",
            "0.8176219512195122\n",
            "Results for 260 estimators:\n",
            "0.8163719512195122\n",
            "Results for 270 estimators:\n",
            "0.8176219512195123\n",
            "Results for 280 estimators:\n",
            "0.8201219512195121\n",
            "Results for 290 estimators:\n",
            "0.8176219512195122\n",
            "Results for 300 estimators:\n",
            "0.8188719512195123\n",
            "Results for 310 estimators:\n",
            "0.8201219512195121\n",
            "Results for 320 estimators:\n",
            "0.8176219512195122\n",
            "Results for 330 estimators:\n",
            "0.8176219512195122\n",
            "Results for 340 estimators:\n",
            "0.8163719512195122\n",
            "Results for 350 estimators:\n",
            "0.8163719512195122\n",
            "Results for 360 estimators:\n",
            "0.8163719512195122\n",
            "Results for 370 estimators:\n",
            "0.8163719512195122\n",
            "Results for 380 estimators:\n",
            "0.8163719512195122\n",
            "Results for 390 estimators:\n",
            "0.8163719512195122\n",
            "Results for 400 estimators:\n",
            "0.8163719512195122\n",
            "Results for 410 estimators:\n",
            "0.8163719512195122\n",
            "Results for 420 estimators:\n",
            "0.8163719512195122\n",
            "Results for 430 estimators:\n",
            "0.8163719512195122\n",
            "Results for 440 estimators:\n",
            "0.8163719512195122\n",
            "Results for 450 estimators:\n",
            "0.8163719512195122\n",
            "Results for 460 estimators:\n",
            "0.8163719512195122\n",
            "Results for 470 estimators:\n",
            "0.8163719512195122\n",
            "Results for 480 estimators:\n",
            "0.8163719512195122\n",
            "Results for 490 estimators:\n",
            "0.8163719512195122\n",
            "Results for 500 estimators:\n",
            "0.8176219512195122\n",
            "Results for 510 estimators:\n",
            "0.8163719512195122\n",
            "Results for 520 estimators:\n",
            "0.8163719512195122\n",
            "Results for 530 estimators:\n",
            "0.8163719512195122\n",
            "Results for 540 estimators:\n",
            "0.8163719512195122\n",
            "Results for 550 estimators:\n",
            "0.8151219512195121\n",
            "Results for 560 estimators:\n",
            "0.8163719512195122\n",
            "Results for 570 estimators:\n",
            "0.8163719512195122\n",
            "Results for 580 estimators:\n",
            "0.8151219512195121\n",
            "Results for 590 estimators:\n",
            "0.8163719512195122\n",
            "Results for 600 estimators:\n",
            "0.8163719512195122\n",
            "Results for 610 estimators:\n",
            "0.8163719512195122\n",
            "Results for 620 estimators:\n",
            "0.8163719512195122\n",
            "Results for 630 estimators:\n",
            "0.8163719512195122\n",
            "Results for 640 estimators:\n",
            "0.8163719512195122\n",
            "Results for 650 estimators:\n",
            "0.8176219512195122\n",
            "Results for 660 estimators:\n",
            "0.8176219512195122\n",
            "Results for 670 estimators:\n",
            "0.8163719512195122\n",
            "Results for 680 estimators:\n",
            "0.8163719512195122\n",
            "Results for 690 estimators:\n",
            "0.8176219512195122\n",
            "Results for 700 estimators:\n",
            "0.8163719512195122\n",
            "Results for 710 estimators:\n",
            "0.8176219512195122\n",
            "Results for 720 estimators:\n",
            "0.8176219512195122\n",
            "Results for 730 estimators:\n",
            "0.8176219512195122\n",
            "Results for 740 estimators:\n",
            "0.8176219512195122\n",
            "Results for 750 estimators:\n",
            "0.8176219512195122\n",
            "Results for 760 estimators:\n",
            "0.8176219512195122\n",
            "Results for 770 estimators:\n",
            "0.8176219512195122\n",
            "Results for 780 estimators:\n",
            "0.8176219512195122\n",
            "Results for 790 estimators:\n",
            "0.8176219512195122\n",
            "Results for 800 estimators:\n",
            "0.8176219512195122\n",
            "Results for 810 estimators:\n",
            "0.8176219512195122\n",
            "Results for 820 estimators:\n",
            "0.8176219512195122\n",
            "Results for 830 estimators:\n",
            "0.8176219512195122\n",
            "Results for 840 estimators:\n",
            "0.8176219512195122\n",
            "Results for 850 estimators:\n",
            "0.8176219512195122\n",
            "Results for 860 estimators:\n",
            "0.8176219512195122\n",
            "Results for 870 estimators:\n",
            "0.8176219512195122\n",
            "Results for 880 estimators:\n",
            "0.8176219512195122\n",
            "Results for 890 estimators:\n",
            "0.8176219512195122\n",
            "Results for 900 estimators:\n",
            "0.8176219512195122\n",
            "Results for 910 estimators:\n",
            "0.8176219512195122\n",
            "Results for 920 estimators:\n",
            "0.8176219512195122\n",
            "Results for 930 estimators:\n",
            "0.8176219512195122\n",
            "Results for 940 estimators:\n",
            "0.8176219512195122\n",
            "Results for 950 estimators:\n",
            "0.8176219512195122\n",
            "Results for 960 estimators:\n",
            "0.8176219512195122\n",
            "Results for 970 estimators:\n",
            "0.8176219512195122\n",
            "Results for 980 estimators:\n",
            "0.8176219512195122\n",
            "Results for 990 estimators:\n",
            "0.8163719512195122\n"
          ],
          "name": "stdout"
        },
        {
          "output_type": "display_data",
          "data": {
            "image/png": "[encoded data removed]",
            "text/plain": [
              "<Figure size 432x288 with 1 Axes>"
            ]
          },
          "metadata": {
            "tags": [],
            "needs_background": "light"
          }
        }
      ]
    },
    {
      "cell_type": "markdown",
      "metadata": {
        "id": "09094ea7"
      },
      "source": [
        "## Boosting Classification Example"
      ],
      "id": "09094ea7"
    },
    {
      "cell_type": "code",
      "metadata": {
        "id": "0a6d48bb",
        "colab": {
          "base_uri": "https://localhost:8080/"
        },
        "outputId": "34aac689-49b7-40ad-db05-75bedda5b2c0"
      },
      "source": [
        "k_folds = KFold(n_splits=20, random_state=12,shuffle=True)\n",
        "num_estimators = [20, 40, 60, 80, 100]\n",
        "\n",
        "for i in num_estimators:\n",
        "    ada_boost = AdaBoostClassifier(n_estimators= i, random_state= 12)\n",
        "    results = cross_val_score(ada_boost, X_train, y_train, cv= k_folds)\n",
        "    print(\"Results for {} estimators:\".format(i))\n",
        "    print(results.mean())"
      ],
      "id": "0a6d48bb",
      "execution_count": 9,
      "outputs": [
        {
          "output_type": "stream",
          "text": [
            "Results for 20 estimators:\n",
            "0.8052134146341464\n",
            "Results for 40 estimators:\n",
            "0.8176524390243903\n",
            "Results for 60 estimators:\n",
            "0.8164329268292683\n",
            "Results for 80 estimators:\n",
            "0.8151524390243902\n",
            "Results for 100 estimators:\n",
            "0.8101524390243903\n"
          ],
          "name": "stdout"
        }
      ]
    },
    {
      "cell_type": "code",
      "metadata": {
        "id": "25lvWVKArQZo",
        "outputId": "d63eb32e-f005-498e-9bf5-91ee2bff103f",
        "colab": {
          "base_uri": "https://localhost:8080/",
          "height": 1000
        }
      },
      "source": [
        "k_folds = KFold(n_splits= 20, random_state= 12 ,shuffle= True)\n",
        "accuracy = []\n",
        "\n",
        "for i in range(20, 80):\n",
        "    ada_boost = AdaBoostClassifier(n_estimators= i, random_state= 12)\n",
        "    results = cross_val_score(ada_boost, X_train, y_train, cv= k_folds)\n",
        "    print(\"Results for {} estimators:\".format(i))\n",
        "    print(results.mean())\n",
        "    accuracy.append(results.mean())\n",
        "\n",
        "i_range = range(20, 80)\n",
        "plt.plot(i_range, accuracy)\n",
        "plt.show()"
      ],
      "id": "25lvWVKArQZo",
      "execution_count": 24,
      "outputs": [
        {
          "output_type": "stream",
          "text": [
            "Results for 20 estimators:\n",
            "0.8052134146341464\n",
            "Results for 21 estimators:\n",
            "0.8039634146341464\n",
            "Results for 22 estimators:\n",
            "0.8039634146341464\n",
            "Results for 23 estimators:\n",
            "0.8077134146341465\n",
            "Results for 24 estimators:\n",
            "0.8077134146341465\n",
            "Results for 25 estimators:\n",
            "0.8102134146341463\n",
            "Results for 26 estimators:\n",
            "0.8089634146341463\n",
            "Results for 27 estimators:\n",
            "0.8114329268292684\n",
            "Results for 28 estimators:\n",
            "0.8126829268292683\n",
            "Results for 29 estimators:\n",
            "0.8114329268292684\n",
            "Results for 30 estimators:\n",
            "0.8101829268292684\n",
            "Results for 31 estimators:\n",
            "0.8139329268292684\n",
            "Results for 32 estimators:\n",
            "0.8114329268292684\n",
            "Results for 33 estimators:\n",
            "0.8114329268292684\n",
            "Results for 34 estimators:\n",
            "0.8101524390243903\n",
            "Results for 35 estimators:\n",
            "0.8151829268292683\n",
            "Results for 36 estimators:\n",
            "0.8139024390243902\n",
            "Results for 37 estimators:\n",
            "0.8126524390243903\n",
            "Results for 38 estimators:\n",
            "0.8151524390243903\n",
            "Results for 39 estimators:\n",
            "0.8176524390243902\n",
            "Results for 40 estimators:\n",
            "0.8176524390243903\n",
            "Results for 41 estimators:\n",
            "0.8164024390243902\n",
            "Results for 42 estimators:\n",
            "0.8151524390243903\n",
            "Results for 43 estimators:\n",
            "0.8139024390243904\n",
            "Results for 44 estimators:\n",
            "0.8176524390243903\n",
            "Results for 45 estimators:\n",
            "0.8164024390243902\n",
            "Results for 46 estimators:\n",
            "0.8176524390243902\n",
            "Results for 47 estimators:\n",
            "0.8201524390243904\n",
            "Results for 48 estimators:\n",
            "0.8139024390243902\n",
            "Results for 49 estimators:\n",
            "0.8214024390243901\n",
            "Results for 50 estimators:\n",
            "0.8164024390243902\n",
            "Results for 51 estimators:\n",
            "0.8201524390243902\n",
            "Results for 52 estimators:\n",
            "0.8151829268292683\n",
            "Results for 53 estimators:\n",
            "0.8164329268292683\n",
            "Results for 54 estimators:\n",
            "0.8176829268292682\n",
            "Results for 55 estimators:\n",
            "0.8139329268292682\n",
            "Results for 56 estimators:\n",
            "0.8189329268292683\n",
            "Results for 57 estimators:\n",
            "0.8164024390243902\n",
            "Results for 58 estimators:\n",
            "0.8189329268292683\n",
            "Results for 59 estimators:\n",
            "0.8189024390243901\n",
            "Results for 60 estimators:\n",
            "0.8164329268292683\n",
            "Results for 61 estimators:\n",
            "0.8176524390243902\n",
            "Results for 62 estimators:\n",
            "0.8151829268292682\n",
            "Results for 63 estimators:\n",
            "0.8164024390243902\n",
            "Results for 64 estimators:\n",
            "0.81640243902439\n",
            "Results for 65 estimators:\n",
            "0.8176524390243902\n",
            "Results for 66 estimators:\n",
            "0.8176524390243902\n",
            "Results for 67 estimators:\n",
            "0.8126524390243903\n",
            "Results for 68 estimators:\n",
            "0.8164024390243902\n",
            "Results for 69 estimators:\n",
            "0.8126524390243903\n",
            "Results for 70 estimators:\n",
            "0.8201524390243902\n",
            "Results for 71 estimators:\n",
            "0.8151524390243902\n",
            "Results for 72 estimators:\n",
            "0.8164024390243902\n",
            "Results for 73 estimators:\n",
            "0.8139024390243902\n",
            "Results for 74 estimators:\n",
            "0.8201524390243902\n",
            "Results for 75 estimators:\n",
            "0.8114024390243901\n",
            "Results for 76 estimators:\n",
            "0.8164024390243902\n",
            "Results for 77 estimators:\n",
            "0.8089024390243903\n",
            "Results for 78 estimators:\n",
            "0.8151524390243903\n",
            "Results for 79 estimators:\n",
            "0.8114024390243901\n"
          ],
          "name": "stdout"
        },
        {
          "output_type": "display_data",
          "data": {
            "image/png": "[encoded data removed]",
            "text/plain": [
              "<Figure size 432x288 with 1 Axes>"
            ]
          },
          "metadata": {
            "tags": [],
            "needs_background": "light"
          }
        }
      ]
    },
    {
      "cell_type": "markdown",
      "metadata": {
        "id": "8290c946"
      },
      "source": [
        "## voting\\Stacking Classification Example"
      ],
      "id": "8290c946"
    },
    {
      "cell_type": "code",
      "metadata": {
        "id": "161a4960",
        "colab": {
          "base_uri": "https://localhost:8080/"
        },
        "outputId": "133d7380-6754-4c55-a4ad-aff322fa9a62"
      },
      "source": [
        "voting_clf = VotingClassifier(estimators=[('SVC', SVC_clf), ('DTree', DTree_clf), ('LogReg', LogReg_clf)], voting='hard')\n",
        "voting_clf.fit(X_train, y_train)\n",
        "preds = voting_clf.predict(X_val)\n",
        "acc = accuracy_score(y_val, preds)\n",
        "l_loss = log_loss(y_val, preds)\n",
        "f1 = f1_score(y_val, preds)\n",
        "\n",
        "print(\"Accuracy is: \" + str(acc))\n",
        "print(\"Log Loss is: \" + str(l_loss))\n",
        "print(\"F1 Score is: \" + str(f1))"
      ],
      "id": "161a4960",
      "execution_count": 41,
      "outputs": [
        {
          "output_type": "stream",
          "text": [
            "Accuracy is: 0.8333333333333334\n",
            "Log Loss is: 5.756516038980461\n",
            "F1 Score is: 0.7761194029850748\n"
          ],
          "name": "stdout"
        }
      ]
    },
    {
      "cell_type": "code",
      "metadata": {
        "id": "de4KSugJ9RAn",
        "outputId": "90d58ff8-d8bb-4cda-d1c5-773e198e0fd2",
        "colab": {
          "base_uri": "https://localhost:8080/"
        }
      },
      "source": [
        "test = testing_data.drop(labels= [\"PassengerId\"], axis= 1)\n",
        "test.shape"
      ],
      "id": "de4KSugJ9RAn",
      "execution_count": 33,
      "outputs": [
        {
          "output_type": "execute_result",
          "data": {
            "text/plain": [
              "(418, 7)"
            ]
          },
          "metadata": {
            "tags": []
          },
          "execution_count": 33
        }
      ]
    },
    {
      "cell_type": "code",
      "metadata": {
        "id": "nKZhio9zAY4p"
      },
      "source": [
        "submission_df = pd.DataFrame(columns= [\"PassengerId\", \"Survived\"])\n",
        "submission_df[\"PassengerId\"] = testing_data[\"PassengerId\"]\n",
        "dtree_bagging_model = BaggingClassifier(base_estimator= DTree_clf, n_estimators= 200, random_state= 12)\n",
        "dtree_bagging_model.fit(X_train, y_train)\n",
        "submission_df[\"Survived\"] = dtree_bagging_model.predict(test)\n",
        "submission_df.to_csv(\"submission.csv\", header= True, index= False)"
      ],
      "id": "nKZhio9zAY4p",
      "execution_count": 40,
      "outputs": []
    },
    {
      "cell_type": "code",
      "metadata": {
        "id": "mx6gj7n3O9_a"
      },
      "source": [
        "submission_df = pd.DataFrame(columns= [\"PassengerId\", \"Survived\"])\n",
        "submission_df[\"PassengerId\"] = testing_data[\"PassengerId\"]\n",
        "submission_df[\"Survived\"] = voting_clf.predict(test)\n",
        "submission_df.to_csv(\"submission.csv\", header= True, index= False)"
      ],
      "id": "mx6gj7n3O9_a",
      "execution_count": 42,
      "outputs": []
    }
  ]
}