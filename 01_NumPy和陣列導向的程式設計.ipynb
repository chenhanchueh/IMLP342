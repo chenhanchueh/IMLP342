{
  "nbformat": 4,
  "nbformat_minor": 0,
  "metadata": {
    "kernelspec": {
      "display_name": "Python 3",
      "language": "python",
      "name": "python3"
    },
    "language_info": {
      "codemirror_mode": {
        "name": "ipython",
        "version": 3
      },
      "file_extension": ".py",
      "mimetype": "text/x-python",
      "name": "python",
      "nbconvert_exporter": "python",
      "pygments_lexer": "ipython3",
      "version": "3.8.8"
    },
    "colab": {
      "name": "01_NumPy和陣列導向的程式設計.ipynb",
      "provenance": [],
      "include_colab_link": true
    }
  },
  "cells": [
    {
      "cell_type": "markdown",
      "metadata": {
        "id": "view-in-github",
        "colab_type": "text"
      },
      "source": [
        "<a href=\"https://colab.research.google.com/github/chenhanchueh/IMLP342/blob/main/01_NumPy%E5%92%8C%E9%99%A3%E5%88%97%E5%B0%8E%E5%90%91%E7%9A%84%E7%A8%8B%E5%BC%8F%E8%A8%AD%E8%A8%88.ipynb\" target=\"_parent\"><img src=\"https://colab.research.google.com/assets/colab-badge.svg\" alt=\"Open In Colab\"/></a>"
      ]
    },
    {
      "cell_type": "markdown",
      "metadata": {
        "id": "vyW8NJBRWZZs"
      },
      "source": [
        "# NumPy 和陣列導向的程式設計\n",
        "\n",
        "`NumPy` 可以說是 Python 中最最標準的科學計算、數據分析套件。也因為 `NumPy` 的出現, 讓 Python 有了非常好的數據分析基礎, 一直到現在成為數據分析覇主。"
      ]
    },
    {
      "cell_type": "code",
      "metadata": {
        "id": "QrwoI1xzWZZv"
      },
      "source": [
        "import numpy as np"
      ],
      "execution_count": 2,
      "outputs": []
    },
    {
      "cell_type": "markdown",
      "metadata": {
        "id": "dGEbziQHWZZv"
      },
      "source": [
        "## 1. 陣列導向 101\n",
        "\n",
        "科學計算一個很核心的概念叫 \"array oriented\" 的寫法。Array 是 `numpy` 標準的資料結構, 和 list 很像, 但就差了那麼一點點。而這一點點讓我們在計算上是無比的方便。"
      ]
    },
    {
      "cell_type": "markdown",
      "metadata": {
        "id": "uQ7efKaJWZZw"
      },
      "source": [
        "### 【暖身】 計算平均\n",
        "\n",
        "某位同學期中考各科成績如下, 請幫他計算成績。\n",
        "\n",
        "    grades = [77, 85, 56, 90, 66]\n",
        "    \n",
        "請計算平均。"
      ]
    },
    {
      "cell_type": "code",
      "metadata": {
        "colab": {
          "base_uri": "https://localhost:8080/"
        },
        "id": "kLLM-_T9WZZx",
        "outputId": "fa412fa1-bbee-4f4d-8598-712bc6a14dff"
      },
      "source": [
        "grades = [77, 85, 56, 90, 66]\n",
        "s = 0\n",
        "for i in grades:\n",
        "  s += i\n",
        "print(\"average = {0:.2f}, sum = {1}\".format(s/len(grades), s))"
      ],
      "execution_count": 48,
      "outputs": [
        {
          "output_type": "stream",
          "text": [
            "average = 74.80, sum = 374\n"
          ],
          "name": "stdout"
        }
      ]
    },
    {
      "cell_type": "markdown",
      "metadata": {
        "id": "IqIbLhG6WZZx"
      },
      "source": [
        "### 【示範】陣列導向"
      ]
    },
    {
      "cell_type": "code",
      "metadata": {
        "colab": {
          "base_uri": "https://localhost:8080/"
        },
        "id": "iIqDB-Z6WZZy",
        "outputId": "ed2cd6fd-137a-44b0-9eb4-f233a6033fad"
      },
      "source": [
        "np.array(grades).mean()"
      ],
      "execution_count": 49,
      "outputs": [
        {
          "output_type": "execute_result",
          "data": {
            "text/plain": [
              "74.8"
            ]
          },
          "metadata": {
            "tags": []
          },
          "execution_count": 49
        }
      ]
    },
    {
      "cell_type": "markdown",
      "metadata": {
        "id": "bag_eALrWZZy"
      },
      "source": [
        "最大值"
      ]
    },
    {
      "cell_type": "code",
      "metadata": {
        "colab": {
          "base_uri": "https://localhost:8080/"
        },
        "id": "zr2fmILPWZZz",
        "outputId": "8f40a38d-ed9c-4386-b570-352aabdc97ff"
      },
      "source": [
        "np.array(grades).max()"
      ],
      "execution_count": 50,
      "outputs": [
        {
          "output_type": "execute_result",
          "data": {
            "text/plain": [
              "90"
            ]
          },
          "metadata": {
            "tags": []
          },
          "execution_count": 50
        }
      ]
    },
    {
      "cell_type": "markdown",
      "metadata": {
        "id": "_8FiwxgGWZZz"
      },
      "source": [
        "標準差"
      ]
    },
    {
      "cell_type": "code",
      "metadata": {
        "colab": {
          "base_uri": "https://localhost:8080/"
        },
        "id": "dAD_0HjcWZZz",
        "outputId": "ebb88128-3aea-469d-c3b7-59022abaa286"
      },
      "source": [
        "np.array(grades).std()"
      ],
      "execution_count": 51,
      "outputs": [
        {
          "output_type": "execute_result",
          "data": {
            "text/plain": [
              "12.416118556135006"
            ]
          },
          "metadata": {
            "tags": []
          },
          "execution_count": 51
        }
      ]
    },
    {
      "cell_type": "markdown",
      "metadata": {
        "id": "DmtWrurwWZZ0"
      },
      "source": [
        "### 【暖身】 換算匯率\n",
        "\n",
        "假設今天我想查查號稱 Pentax 三公主的 31mm, 43mm, 77mm 三隻 limited 鏡頭在美國賣多少。於是我去 B&H 查了他們的價格分別是:\n",
        "\n",
        "    prices = [1096.95, 596.95, 896.95]\n",
        "    \n",
        "我又查了 Google 匯率 1 美金為 31.71 元。請把三支鏡頭的價格換算為台幣。"
      ]
    },
    {
      "cell_type": "code",
      "metadata": {
        "collapsed": true,
        "colab": {
          "base_uri": "https://localhost:8080/"
        },
        "id": "J8A-3qFdWZZ0",
        "outputId": "08000d2c-14c7-46b2-d89e-39c6763f571e"
      },
      "source": [
        "prices = [1096.95, 596.95, 896.95]\n",
        "twd = [31.71 * i for i in prices]\n",
        "twd"
      ],
      "execution_count": 53,
      "outputs": [
        {
          "output_type": "execute_result",
          "data": {
            "text/plain": [
              "[34784.2845, 18929.2845, 28442.2845]"
            ]
          },
          "metadata": {
            "tags": []
          },
          "execution_count": 53
        }
      ]
    },
    {
      "cell_type": "markdown",
      "metadata": {
        "id": "jtwriAr_WZZ1"
      },
      "source": [
        "先不管這實在有夠醜的數字, 我們要記得在科學計算中:\n",
        "\n",
        "### 儘可能不要使用迴圈\n",
        "\n",
        "這可能嗎?"
      ]
    },
    {
      "cell_type": "markdown",
      "metadata": {
        "id": "CmOqyLXYWZZ1"
      },
      "source": [
        "### 【示範】陣列換算匯率"
      ]
    },
    {
      "cell_type": "code",
      "metadata": {
        "colab": {
          "base_uri": "https://localhost:8080/"
        },
        "id": "UD7ffyxhWZZ2",
        "outputId": "eb593a00-fcf9-4430-b4ab-6c717741fe93"
      },
      "source": [
        "price = np.array([1096.95, 596.95, 896.95])\n",
        "price * 31.71"
      ],
      "execution_count": 54,
      "outputs": [
        {
          "output_type": "execute_result",
          "data": {
            "text/plain": [
              "array([34784.2845, 18929.2845, 28442.2845])"
            ]
          },
          "metadata": {
            "tags": []
          },
          "execution_count": 54
        }
      ]
    },
    {
      "cell_type": "markdown",
      "metadata": {
        "id": "N28rKgWRWZZ2"
      },
      "source": [
        "哦哦, 傑克, 這太神奇了!"
      ]
    },
    {
      "cell_type": "markdown",
      "metadata": {
        "id": "ICtMUMEnWZZ2"
      },
      "source": [
        "## 2. 其實 array 還有很多功能\n",
        "\n",
        "### 【練習】 成績計算\n",
        "\n",
        "一位老師成績這樣算的:\n",
        "\n",
        "* 平時成績 20%\n",
        "* 期中考   35%\n",
        "* 期未考   45%\n",
        "\n",
        "有位同學\n",
        "\n",
        "* 平時成績 85 分\n",
        "* 期中 70 分\n",
        "* 期末 80 分\n",
        "\n",
        "這位同學的學期成績是多少?"
      ]
    },
    {
      "cell_type": "code",
      "metadata": {
        "id": "NUn1ATrqWZZ3"
      },
      "source": [
        "grades = np.array([85,70,80])\n",
        "weights = np.array([0.2, 0.35, 0.45])"
      ],
      "execution_count": 55,
      "outputs": []
    },
    {
      "cell_type": "markdown",
      "metadata": {
        "id": "vSAbAHwuWZZ3"
      },
      "source": [
        "這還不是我們要的最終成績啊!"
      ]
    },
    {
      "cell_type": "code",
      "metadata": {
        "colab": {
          "base_uri": "https://localhost:8080/"
        },
        "id": "iq1PDaq7WZZ3",
        "outputId": "1d026a76-faaf-45d5-ea6f-8b6bf1732d78"
      },
      "source": [
        "grades * weights"
      ],
      "execution_count": 56,
      "outputs": [
        {
          "output_type": "execute_result",
          "data": {
            "text/plain": [
              "array([17. , 24.5, 36. ])"
            ]
          },
          "metadata": {
            "tags": []
          },
          "execution_count": 56
        }
      ]
    },
    {
      "cell_type": "markdown",
      "metadata": {
        "id": "9cqk08sGWZZ4"
      },
      "source": [
        "### 【提示】 array 還有很多函數可以用\n",
        "\n",
        "可以先打入\n",
        "\n",
        "    weighted_grades.\n",
        "    \n",
        "先不要按 `enter` 或 `shift-enter`, 而是按 `tab`...\n"
      ]
    },
    {
      "cell_type": "code",
      "metadata": {
        "colab": {
          "base_uri": "https://localhost:8080/"
        },
        "id": "zkur3GW3WZZ4",
        "outputId": "cc92f0e3-ad0d-400a-efb1-4df3b7e99f43"
      },
      "source": [
        "weighted_grades = grades * weights\n",
        "weighted_grades.sum()"
      ],
      "execution_count": 57,
      "outputs": [
        {
          "output_type": "execute_result",
          "data": {
            "text/plain": [
              "77.5"
            ]
          },
          "metadata": {
            "tags": []
          },
          "execution_count": 57
        }
      ]
    },
    {
      "cell_type": "markdown",
      "metadata": {
        "id": "sZgRxGfqWZZ4"
      },
      "source": [
        "### 【技巧】 一行完成成績計算"
      ]
    },
    {
      "cell_type": "code",
      "metadata": {
        "colab": {
          "base_uri": "https://localhost:8080/"
        },
        "id": "gPEmOyfZWZZ5",
        "outputId": "15d627f3-e8ab-45a9-bb75-a02c8cbcdef0"
      },
      "source": [
        "np.dot(grades, weights)"
      ],
      "execution_count": 58,
      "outputs": [
        {
          "output_type": "execute_result",
          "data": {
            "text/plain": [
              "77.5"
            ]
          },
          "metadata": {
            "tags": []
          },
          "execution_count": 58
        }
      ]
    },
    {
      "cell_type": "markdown",
      "metadata": {
        "id": "5Bq41IqPWZZ5"
      },
      "source": [
        "## 3. 重要的 array 大變身!\n",
        "\n",
        "我們在數據分析, 常常要改 array 的型式。"
      ]
    },
    {
      "cell_type": "markdown",
      "metadata": {
        "id": "ePeW4kGHWZZ5"
      },
      "source": [
        "### 【練習】 一個 50 個數字的 array\n",
        "\n",
        "先想辦法、用亂數做出 50 個數字的 array, 叫做 A 好了。"
      ]
    },
    {
      "cell_type": "code",
      "metadata": {
        "colab": {
          "base_uri": "https://localhost:8080/"
        },
        "id": "OloItODhWZZ5",
        "outputId": "c8ca5830-a297-43f0-dbde-f36d58fd7ec9"
      },
      "source": [
        "A = np.random.rand(50)\n",
        "A"
      ],
      "execution_count": 3,
      "outputs": [
        {
          "output_type": "execute_result",
          "data": {
            "text/plain": [
              "array([0.54921426, 0.97418533, 0.75866661, 0.03865557, 0.28286711,\n",
              "       0.32406466, 0.89690908, 0.6873311 , 0.56693444, 0.23022699,\n",
              "       0.64497603, 0.4754214 , 0.12501982, 0.2754423 , 0.39641242,\n",
              "       0.16196005, 0.6249083 , 0.16888017, 0.78153213, 0.59386451,\n",
              "       0.59643548, 0.44655786, 0.60780509, 0.05072354, 0.63262772,\n",
              "       0.39925523, 0.40180798, 0.3884171 , 0.37528094, 0.79989698,\n",
              "       0.74379475, 0.0172095 , 0.7826072 , 0.18364541, 0.22177233,\n",
              "       0.49670841, 0.40138366, 0.63835582, 0.12773784, 0.36629311,\n",
              "       0.2291089 , 0.60450999, 0.41957116, 0.18650817, 0.23416113,\n",
              "       0.98194581, 0.63925133, 0.6054386 , 0.50444032, 0.52117001])"
            ]
          },
          "metadata": {
            "tags": []
          },
          "execution_count": 3
        }
      ]
    },
    {
      "cell_type": "code",
      "metadata": {
        "colab": {
          "base_uri": "https://localhost:8080/"
        },
        "id": "efad6S6UWZZ6",
        "outputId": "98d51a5a-05fe-4c30-ef0e-35866ef131c9"
      },
      "source": [
        "A[0]"
      ],
      "execution_count": 5,
      "outputs": [
        {
          "output_type": "execute_result",
          "data": {
            "text/plain": [
              "0.5492142595813225"
            ]
          },
          "metadata": {
            "tags": []
          },
          "execution_count": 5
        }
      ]
    },
    {
      "cell_type": "markdown",
      "metadata": {
        "id": "n4JgieLEWZZ6"
      },
      "source": [
        "### 【技巧】 檢查 A 的 `shape`"
      ]
    },
    {
      "cell_type": "code",
      "metadata": {
        "colab": {
          "base_uri": "https://localhost:8080/"
        },
        "id": "B6ChtvOyWZZ6",
        "outputId": "7464fc5a-220b-42a2-d0f6-3f338a2027db"
      },
      "source": [
        "A.shape"
      ],
      "execution_count": 4,
      "outputs": [
        {
          "output_type": "execute_result",
          "data": {
            "text/plain": [
              "(50,)"
            ]
          },
          "metadata": {
            "tags": []
          },
          "execution_count": 4
        }
      ]
    },
    {
      "cell_type": "markdown",
      "metadata": {
        "id": "FbpQyx56WZZ7"
      },
      "source": [
        "### 【技巧】 更改 A 的 shape"
      ]
    },
    {
      "cell_type": "code",
      "metadata": {
        "colab": {
          "base_uri": "https://localhost:8080/"
        },
        "id": "gdnHb0S3WZZ7",
        "outputId": "a83233d1-b8e7-4b7c-cbd2-60802669552c"
      },
      "source": [
        "A.shape = (5,10)\n",
        "A"
      ],
      "execution_count": 11,
      "outputs": [
        {
          "output_type": "execute_result",
          "data": {
            "text/plain": [
              "array([[0.54921426, 0.97418533, 0.75866661, 0.03865557, 0.28286711,\n",
              "        0.32406466, 0.89690908, 0.6873311 , 0.56693444, 0.23022699],\n",
              "       [0.64497603, 0.4754214 , 0.12501982, 0.2754423 , 0.39641242,\n",
              "        0.16196005, 0.6249083 , 0.16888017, 0.78153213, 0.59386451],\n",
              "       [0.59643548, 0.44655786, 0.60780509, 0.05072354, 0.63262772,\n",
              "        0.39925523, 0.40180798, 0.3884171 , 0.37528094, 0.79989698],\n",
              "       [0.74379475, 0.0172095 , 0.7826072 , 0.18364541, 0.22177233,\n",
              "        0.49670841, 0.40138366, 0.63835582, 0.12773784, 0.36629311],\n",
              "       [0.2291089 , 0.60450999, 0.41957116, 0.18650817, 0.23416113,\n",
              "        0.98194581, 0.63925133, 0.6054386 , 0.50444032, 0.52117001]])"
            ]
          },
          "metadata": {
            "tags": []
          },
          "execution_count": 11
        }
      ]
    },
    {
      "cell_type": "markdown",
      "metadata": {
        "id": "3hv4MQpeWZZ7"
      },
      "source": [
        "### 【技巧】 也可以用 `reshape`\n",
        "\n",
        "但要注意, reshape 並沒有改原來的陣列。"
      ]
    },
    {
      "cell_type": "code",
      "metadata": {
        "colab": {
          "base_uri": "https://localhost:8080/"
        },
        "id": "Hzk_UWUcWZZ8",
        "outputId": "916f68a6-7ace-4f71-ef11-0db390229733"
      },
      "source": [
        "A.reshape(10,5)"
      ],
      "execution_count": 8,
      "outputs": [
        {
          "output_type": "execute_result",
          "data": {
            "text/plain": [
              "array([[0.54921426, 0.97418533, 0.75866661, 0.03865557, 0.28286711],\n",
              "       [0.32406466, 0.89690908, 0.6873311 , 0.56693444, 0.23022699],\n",
              "       [0.64497603, 0.4754214 , 0.12501982, 0.2754423 , 0.39641242],\n",
              "       [0.16196005, 0.6249083 , 0.16888017, 0.78153213, 0.59386451],\n",
              "       [0.59643548, 0.44655786, 0.60780509, 0.05072354, 0.63262772],\n",
              "       [0.39925523, 0.40180798, 0.3884171 , 0.37528094, 0.79989698],\n",
              "       [0.74379475, 0.0172095 , 0.7826072 , 0.18364541, 0.22177233],\n",
              "       [0.49670841, 0.40138366, 0.63835582, 0.12773784, 0.36629311],\n",
              "       [0.2291089 , 0.60450999, 0.41957116, 0.18650817, 0.23416113],\n",
              "       [0.98194581, 0.63925133, 0.6054386 , 0.50444032, 0.52117001]])"
            ]
          },
          "metadata": {
            "tags": []
          },
          "execution_count": 8
        }
      ]
    },
    {
      "cell_type": "markdown",
      "metadata": {
        "id": "Ar_YfUbvWZZ8"
      },
      "source": [
        "### 【技巧】 拉平 `ravel`\n",
        "\n",
        "雖然你想一想就知道可以用 `shape` 或 `reshape` 把多維陣列拉成一維。不過用 `ravel` 很潮。"
      ]
    },
    {
      "cell_type": "code",
      "metadata": {
        "colab": {
          "base_uri": "https://localhost:8080/"
        },
        "id": "eU3O5-HBWZZ8",
        "outputId": "caafad0f-584d-4d38-f54c-5626da88de68"
      },
      "source": [
        "A.ravel()"
      ],
      "execution_count": 9,
      "outputs": [
        {
          "output_type": "execute_result",
          "data": {
            "text/plain": [
              "array([0.54921426, 0.97418533, 0.75866661, 0.03865557, 0.28286711,\n",
              "       0.32406466, 0.89690908, 0.6873311 , 0.56693444, 0.23022699,\n",
              "       0.64497603, 0.4754214 , 0.12501982, 0.2754423 , 0.39641242,\n",
              "       0.16196005, 0.6249083 , 0.16888017, 0.78153213, 0.59386451,\n",
              "       0.59643548, 0.44655786, 0.60780509, 0.05072354, 0.63262772,\n",
              "       0.39925523, 0.40180798, 0.3884171 , 0.37528094, 0.79989698,\n",
              "       0.74379475, 0.0172095 , 0.7826072 , 0.18364541, 0.22177233,\n",
              "       0.49670841, 0.40138366, 0.63835582, 0.12773784, 0.36629311,\n",
              "       0.2291089 , 0.60450999, 0.41957116, 0.18650817, 0.23416113,\n",
              "       0.98194581, 0.63925133, 0.6054386 , 0.50444032, 0.52117001])"
            ]
          },
          "metadata": {
            "tags": []
          },
          "execution_count": 9
        }
      ]
    },
    {
      "cell_type": "markdown",
      "metadata": {
        "id": "HxHH-D_KWZZ8"
      },
      "source": [
        "## 4. 快速 array 生成法"
      ]
    },
    {
      "cell_type": "markdown",
      "metadata": {
        "id": "b81E84AcWZZ9"
      },
      "source": [
        "### 【技巧】 都是 0 的 array"
      ]
    },
    {
      "cell_type": "code",
      "metadata": {
        "colab": {
          "base_uri": "https://localhost:8080/"
        },
        "id": "-8R8_ZfMWZZ9",
        "outputId": "bb719227-14ff-4cf9-ad41-06e514e97077"
      },
      "source": [
        "np.zeros((512,512))"
      ],
      "execution_count": 13,
      "outputs": [
        {
          "output_type": "execute_result",
          "data": {
            "text/plain": [
              "array([[0., 0., 0., ..., 0., 0., 0.],\n",
              "       [0., 0., 0., ..., 0., 0., 0.],\n",
              "       [0., 0., 0., ..., 0., 0., 0.],\n",
              "       ...,\n",
              "       [0., 0., 0., ..., 0., 0., 0.],\n",
              "       [0., 0., 0., ..., 0., 0., 0.],\n",
              "       [0., 0., 0., ..., 0., 0., 0.]])"
            ]
          },
          "metadata": {
            "tags": []
          },
          "execution_count": 13
        }
      ]
    },
    {
      "cell_type": "markdown",
      "metadata": {
        "id": "iPXkT0PjWZZ9"
      },
      "source": [
        "### 【技巧】 都是 1 的 array"
      ]
    },
    {
      "cell_type": "code",
      "metadata": {
        "colab": {
          "base_uri": "https://localhost:8080/"
        },
        "id": "ZXb71TxGWZZ9",
        "outputId": "1818bc16-5c1c-485f-f255-3d80951bf11a"
      },
      "source": [
        "np.ones(10)"
      ],
      "execution_count": 14,
      "outputs": [
        {
          "output_type": "execute_result",
          "data": {
            "text/plain": [
              "array([1., 1., 1., 1., 1., 1., 1., 1., 1., 1.])"
            ]
          },
          "metadata": {
            "tags": []
          },
          "execution_count": 14
        }
      ]
    },
    {
      "cell_type": "markdown",
      "metadata": {
        "id": "OfRkeeKlWZZ-"
      },
      "source": [
        "### 【技巧】單位矩陣"
      ]
    },
    {
      "cell_type": "code",
      "metadata": {
        "colab": {
          "base_uri": "https://localhost:8080/"
        },
        "id": "cJ72DEwhWZZ-",
        "outputId": "2f4c27e5-e5e7-4810-ec80-35b29f8e6df0"
      },
      "source": [
        "np.eye(5)"
      ],
      "execution_count": 16,
      "outputs": [
        {
          "output_type": "execute_result",
          "data": {
            "text/plain": [
              "array([[1., 0., 0., 0., 0.],\n",
              "       [0., 1., 0., 0., 0.],\n",
              "       [0., 0., 1., 0., 0.],\n",
              "       [0., 0., 0., 1., 0.],\n",
              "       [0., 0., 0., 0., 1.]])"
            ]
          },
          "metadata": {
            "tags": []
          },
          "execution_count": 16
        }
      ]
    },
    {
      "cell_type": "markdown",
      "metadata": {
        "id": "kk3OPyqxWZZ-"
      },
      "source": [
        "### 【技巧】給定範圍均勻生出 n 個點"
      ]
    },
    {
      "cell_type": "code",
      "metadata": {
        "colab": {
          "base_uri": "https://localhost:8080/"
        },
        "id": "HGQynoFDWZZ-",
        "outputId": "07d0eb5e-ba16-4823-beeb-edbebdd6f437"
      },
      "source": [
        "x = np.linspace(0,10,100)\n",
        "x"
      ],
      "execution_count": 17,
      "outputs": [
        {
          "output_type": "execute_result",
          "data": {
            "text/plain": [
              "array([ 0.        ,  0.1010101 ,  0.2020202 ,  0.3030303 ,  0.4040404 ,\n",
              "        0.50505051,  0.60606061,  0.70707071,  0.80808081,  0.90909091,\n",
              "        1.01010101,  1.11111111,  1.21212121,  1.31313131,  1.41414141,\n",
              "        1.51515152,  1.61616162,  1.71717172,  1.81818182,  1.91919192,\n",
              "        2.02020202,  2.12121212,  2.22222222,  2.32323232,  2.42424242,\n",
              "        2.52525253,  2.62626263,  2.72727273,  2.82828283,  2.92929293,\n",
              "        3.03030303,  3.13131313,  3.23232323,  3.33333333,  3.43434343,\n",
              "        3.53535354,  3.63636364,  3.73737374,  3.83838384,  3.93939394,\n",
              "        4.04040404,  4.14141414,  4.24242424,  4.34343434,  4.44444444,\n",
              "        4.54545455,  4.64646465,  4.74747475,  4.84848485,  4.94949495,\n",
              "        5.05050505,  5.15151515,  5.25252525,  5.35353535,  5.45454545,\n",
              "        5.55555556,  5.65656566,  5.75757576,  5.85858586,  5.95959596,\n",
              "        6.06060606,  6.16161616,  6.26262626,  6.36363636,  6.46464646,\n",
              "        6.56565657,  6.66666667,  6.76767677,  6.86868687,  6.96969697,\n",
              "        7.07070707,  7.17171717,  7.27272727,  7.37373737,  7.47474747,\n",
              "        7.57575758,  7.67676768,  7.77777778,  7.87878788,  7.97979798,\n",
              "        8.08080808,  8.18181818,  8.28282828,  8.38383838,  8.48484848,\n",
              "        8.58585859,  8.68686869,  8.78787879,  8.88888889,  8.98989899,\n",
              "        9.09090909,  9.19191919,  9.29292929,  9.39393939,  9.49494949,\n",
              "        9.5959596 ,  9.6969697 ,  9.7979798 ,  9.8989899 , 10.        ])"
            ]
          },
          "metadata": {
            "tags": []
          },
          "execution_count": 17
        }
      ]
    },
    {
      "cell_type": "markdown",
      "metadata": {
        "id": "PQia3rjoWZZ_"
      },
      "source": [
        "### 【技巧】`range` 的 array 版\n",
        "\n",
        "就是 `arange`。"
      ]
    },
    {
      "cell_type": "code",
      "metadata": {
        "colab": {
          "base_uri": "https://localhost:8080/"
        },
        "id": "NUVCOq9RWZZ_",
        "outputId": "787cb84f-b5cf-4913-cbf7-dbdc6b5d93be"
      },
      "source": [
        "np.arange(1,10,0.2)"
      ],
      "execution_count": 18,
      "outputs": [
        {
          "output_type": "execute_result",
          "data": {
            "text/plain": [
              "array([1. , 1.2, 1.4, 1.6, 1.8, 2. , 2.2, 2.4, 2.6, 2.8, 3. , 3.2, 3.4,\n",
              "       3.6, 3.8, 4. , 4.2, 4.4, 4.6, 4.8, 5. , 5.2, 5.4, 5.6, 5.8, 6. ,\n",
              "       6.2, 6.4, 6.6, 6.8, 7. , 7.2, 7.4, 7.6, 7.8, 8. , 8.2, 8.4, 8.6,\n",
              "       8.8, 9. , 9.2, 9.4, 9.6, 9.8])"
            ]
          },
          "metadata": {
            "tags": []
          },
          "execution_count": 18
        }
      ]
    },
    {
      "cell_type": "markdown",
      "metadata": {
        "id": "_4gsY-j3WZZ_"
      },
      "source": [
        "## 5. 超重要 `axis` 觀念\n",
        "\n",
        "初學 `numpy` 很多人有點弄不清楚 `axis` 概念。其實掌握矩陣, 或很像矩陣的陣列都是「先列後行」就可以!\n",
        "\n",
        "我們先弄個 array 來練習。"
      ]
    },
    {
      "cell_type": "code",
      "metadata": {
        "colab": {
          "base_uri": "https://localhost:8080/"
        },
        "id": "hybQWiAaWZaA",
        "outputId": "37bdb853-c04a-4264-ef93-c47537e9b6d5"
      },
      "source": [
        "A = np.arange(10).reshape(2,5)\n",
        "A"
      ],
      "execution_count": 20,
      "outputs": [
        {
          "output_type": "execute_result",
          "data": {
            "text/plain": [
              "array([[0, 1, 2, 3, 4],\n",
              "       [5, 6, 7, 8, 9]])"
            ]
          },
          "metadata": {
            "tags": []
          },
          "execution_count": 20
        }
      ]
    },
    {
      "cell_type": "markdown",
      "metadata": {
        "id": "uH3BFfKaWZaA"
      },
      "source": [
        "### 【重點】 一列一列算下來是 `axis=0`"
      ]
    },
    {
      "cell_type": "code",
      "metadata": {
        "id": "Lqp5TCNYZ78p",
        "outputId": "232cfe73-63aa-48d2-800a-8f37a2f3b3c5",
        "colab": {
          "base_uri": "https://localhost:8080/"
        }
      },
      "source": [
        "A.sum(axis=0)"
      ],
      "execution_count": 21,
      "outputs": [
        {
          "output_type": "execute_result",
          "data": {
            "text/plain": [
              "array([ 5,  7,  9, 11, 13])"
            ]
          },
          "metadata": {
            "tags": []
          },
          "execution_count": 21
        }
      ]
    },
    {
      "cell_type": "markdown",
      "metadata": {
        "id": "buKFu_U5WZaA"
      },
      "source": [
        "![axis=0](https://github.com/chenhanchueh/IMLP342/blob/main/images/axis0.png?raw=1)"
      ]
    },
    {
      "cell_type": "code",
      "metadata": {
        "colab": {
          "base_uri": "https://localhost:8080/"
        },
        "id": "7kiprwonWZaA",
        "outputId": "8b0b6dfd-48f4-4487-d707-0edede87d8c8"
      },
      "source": [
        "A.sum(axis=0)"
      ],
      "execution_count": 22,
      "outputs": [
        {
          "output_type": "execute_result",
          "data": {
            "text/plain": [
              "array([ 5,  7,  9, 11, 13])"
            ]
          },
          "metadata": {
            "tags": []
          },
          "execution_count": 22
        }
      ]
    },
    {
      "cell_type": "markdown",
      "metadata": {
        "id": "ub3Opeg1WZaB"
      },
      "source": [
        "### 【重點】 一行一行算過去是 `axis=1`\n",
        "\n",
        "![axis=1](https://github.com/chenhanchueh/IMLP342/blob/main/images/axis1.png?raw=1)"
      ]
    },
    {
      "cell_type": "code",
      "metadata": {
        "colab": {
          "base_uri": "https://localhost:8080/"
        },
        "id": "W3eEJ8g1WZaB",
        "outputId": "ecf498e3-4c29-4e31-b558-998787b32c11"
      },
      "source": [
        "A.sum(axis=1)"
      ],
      "execution_count": 23,
      "outputs": [
        {
          "output_type": "execute_result",
          "data": {
            "text/plain": [
              "array([10, 35])"
            ]
          },
          "metadata": {
            "tags": []
          },
          "execution_count": 23
        }
      ]
    },
    {
      "cell_type": "markdown",
      "metadata": {
        "id": "rbc_Lgp9WZaB"
      },
      "source": [
        "### 【提示】當然也有可能全部算"
      ]
    },
    {
      "cell_type": "code",
      "metadata": {
        "colab": {
          "base_uri": "https://localhost:8080/"
        },
        "id": "_xerprrfWZaB",
        "outputId": "3fdbdcf5-c0ee-4a02-ed99-237d5c034a1b"
      },
      "source": [
        "A.sum()"
      ],
      "execution_count": 24,
      "outputs": [
        {
          "output_type": "execute_result",
          "data": {
            "text/plain": [
              "45"
            ]
          },
          "metadata": {
            "tags": []
          },
          "execution_count": 24
        }
      ]
    },
    {
      "cell_type": "markdown",
      "metadata": {
        "id": "LPQyYtl0WZaC"
      },
      "source": [
        "## 6. array 過濾器\n",
        "\n",
        "篩出我們要的資料, 這樣的技巧非常重要!"
      ]
    },
    {
      "cell_type": "markdown",
      "metadata": {
        "id": "wtJ8ziSOWZaC"
      },
      "source": [
        "### 【例子】篩出大於 0 的數\n",
        "\n",
        "我們有個陣列, 想找出大於 0 的數。<br>\n",
        "L = np.array([3, -2, -1, 5, 7, -3])"
      ]
    },
    {
      "cell_type": "code",
      "metadata": {
        "id": "vo1--moVWZaC"
      },
      "source": [
        "L = np.array([3, -2, -1, 5, 7, -3])"
      ],
      "execution_count": 25,
      "outputs": []
    },
    {
      "cell_type": "markdown",
      "metadata": {
        "id": "af0RI7HDWZaD"
      },
      "source": [
        "我們可以很白痴的自己判斷...<br>\n",
        "c = np.array([True,False,False,True,True,False])"
      ]
    },
    {
      "cell_type": "code",
      "metadata": {
        "id": "YyIBxmtOWZaD"
      },
      "source": [
        "c = np.array([True,False,False,True,True,False])"
      ],
      "execution_count": 26,
      "outputs": []
    },
    {
      "cell_type": "markdown",
      "metadata": {
        "id": "1n4YvWk3WZaD"
      },
      "source": [
        "這是做啥呢? 我們可以瞬間..."
      ]
    },
    {
      "cell_type": "code",
      "metadata": {
        "colab": {
          "base_uri": "https://localhost:8080/"
        },
        "id": "F6Br19spWZaD",
        "outputId": "6cbf1f96-c681-480e-8d8f-b753a3080e68"
      },
      "source": [
        "L[c]"
      ],
      "execution_count": 27,
      "outputs": [
        {
          "output_type": "execute_result",
          "data": {
            "text/plain": [
              "array([3, 5, 7])"
            ]
          },
          "metadata": {
            "tags": []
          },
          "execution_count": 27
        }
      ]
    },
    {
      "cell_type": "markdown",
      "metadata": {
        "id": "MuEpB3dqWZaE"
      },
      "source": [
        "除了自己做很白痴, 這看來很厲害!"
      ]
    },
    {
      "cell_type": "markdown",
      "metadata": {
        "id": "520Y6iJxWZaE"
      },
      "source": [
        "事實上我們可以叫 `numpy` 做!"
      ]
    },
    {
      "cell_type": "code",
      "metadata": {
        "colab": {
          "base_uri": "https://localhost:8080/"
        },
        "id": "yNBQPQzZWZaE",
        "outputId": "4eddbeb9-aa47-4090-aaf6-aee4a8b3cbfc"
      },
      "source": [
        "L > 0"
      ],
      "execution_count": 28,
      "outputs": [
        {
          "output_type": "execute_result",
          "data": {
            "text/plain": [
              "array([ True, False, False,  True,  True, False])"
            ]
          },
          "metadata": {
            "tags": []
          },
          "execution_count": 28
        }
      ]
    },
    {
      "cell_type": "markdown",
      "metadata": {
        "id": "pr7V198VWZaE"
      },
      "source": [
        "這有點強, 我們還可以一次到位!"
      ]
    },
    {
      "cell_type": "code",
      "metadata": {
        "scrolled": true,
        "colab": {
          "base_uri": "https://localhost:8080/"
        },
        "id": "YG2ak1i9WZaF",
        "outputId": "45d0e015-c6a0-4228-a0ea-c779ddc5ab1d"
      },
      "source": [
        "L = L[L > 0]\n",
        "L"
      ],
      "execution_count": 31,
      "outputs": [
        {
          "output_type": "execute_result",
          "data": {
            "text/plain": [
              "array([3, 5, 7])"
            ]
          },
          "metadata": {
            "tags": []
          },
          "execution_count": 31
        }
      ]
    },
    {
      "cell_type": "markdown",
      "metadata": {
        "id": "JRaXPfdtWZaF"
      },
      "source": [
        "## 7. 次元切割刀\n",
        "\n",
        "`numpy` 中 array 的切割法和 list 很像。"
      ]
    },
    {
      "cell_type": "code",
      "metadata": {
        "colab": {
          "base_uri": "https://localhost:8080/"
        },
        "id": "nfQxz0SOWZaF",
        "outputId": "72fd4493-2a4a-4760-f542-625ce57cc5c0"
      },
      "source": [
        "x = np.arange(10)\n",
        "x"
      ],
      "execution_count": 33,
      "outputs": [
        {
          "output_type": "execute_result",
          "data": {
            "text/plain": [
              "array([0, 1, 2, 3, 4, 5, 6, 7, 8, 9])"
            ]
          },
          "metadata": {
            "tags": []
          },
          "execution_count": 33
        }
      ]
    },
    {
      "cell_type": "code",
      "metadata": {
        "colab": {
          "base_uri": "https://localhost:8080/"
        },
        "id": "vHUp7bwKWZaF",
        "outputId": "7fd1c457-b81d-448c-99e2-ea652453036a"
      },
      "source": [
        "x[3:7]"
      ],
      "execution_count": 34,
      "outputs": [
        {
          "output_type": "execute_result",
          "data": {
            "text/plain": [
              "array([3, 4, 5, 6])"
            ]
          },
          "metadata": {
            "tags": []
          },
          "execution_count": 34
        }
      ]
    },
    {
      "cell_type": "markdown",
      "metadata": {
        "id": "vtdPM36LWZaG"
      },
      "source": [
        "### 【技巧】2維陣列切法\n",
        "\n",
        "記得先列後行!"
      ]
    },
    {
      "cell_type": "code",
      "metadata": {
        "colab": {
          "base_uri": "https://localhost:8080/"
        },
        "id": "-OtTi9IZWZaG",
        "outputId": "d86bf38c-04a1-43c8-917f-46e1b5cf9b41"
      },
      "source": [
        "x.shape = (2,5)\n",
        "x"
      ],
      "execution_count": 38,
      "outputs": [
        {
          "output_type": "execute_result",
          "data": {
            "text/plain": [
              "array([[0, 1, 2, 3, 4],\n",
              "       [5, 6, 7, 8, 9]])"
            ]
          },
          "metadata": {
            "tags": []
          },
          "execution_count": 38
        }
      ]
    },
    {
      "cell_type": "markdown",
      "metadata": {
        "id": "WsxaZ0-1WZaG"
      },
      "source": [
        "要所有的row, 切出行 1-3 位置。"
      ]
    },
    {
      "cell_type": "code",
      "metadata": {
        "colab": {
          "base_uri": "https://localhost:8080/"
        },
        "id": "7TbHAnMdWZaH",
        "outputId": "446ed991-5433-4e69-a9bb-30f8cda57c18"
      },
      "source": [
        "x[:,1:3]"
      ],
      "execution_count": 40,
      "outputs": [
        {
          "output_type": "execute_result",
          "data": {
            "text/plain": [
              "array([[1, 2],\n",
              "       [6, 7]])"
            ]
          },
          "metadata": {
            "tags": []
          },
          "execution_count": 40
        }
      ]
    },
    {
      "cell_type": "markdown",
      "metadata": {
        "id": "hOU7rPwNWZaH"
      },
      "source": [
        "要所有的行col, 切出第 1 列row!"
      ]
    },
    {
      "cell_type": "code",
      "metadata": {
        "colab": {
          "base_uri": "https://localhost:8080/"
        },
        "id": "Q0DI2lNhWZaH",
        "outputId": "fbcd1509-1925-4efd-e58c-86dbad2d3e38"
      },
      "source": [
        "x[1,:]"
      ],
      "execution_count": 42,
      "outputs": [
        {
          "output_type": "execute_result",
          "data": {
            "text/plain": [
              "array([5, 6, 7, 8, 9])"
            ]
          },
          "metadata": {
            "tags": []
          },
          "execution_count": 42
        }
      ]
    },
    {
      "cell_type": "markdown",
      "metadata": {
        "id": "5-0GSTd9WZaH"
      },
      "source": [
        "## 8. `NumPy` 的 `zip` 和 `unzip`"
      ]
    },
    {
      "cell_type": "markdown",
      "metadata": {
        "id": "3LrmglpEWZaI"
      },
      "source": [
        "之前我們介紹 list 可以用 `zip` 和 `unzip` (其實還是 `zip`) 做到的資料格式變換, 在 array 中怎麼做呢?\n",
        "\n",
        "![zip and unzip](https://github.com/chenhanchueh/IMLP342/blob/main/images/zip.png?raw=1)"
      ]
    },
    {
      "cell_type": "markdown",
      "metadata": {
        "id": "XZoJA1JdWZaI"
      },
      "source": [
        "### 【重點】array 的 `zip`\n",
        "\n",
        "![array zip](https://github.com/chenhanchueh/IMLP342/blob/main/images/arrzip.png?raw=1)"
      ]
    },
    {
      "cell_type": "code",
      "metadata": {
        "id": "KH5dpkX4WZaI"
      },
      "source": [
        "x = np.array([1,2,3,4])\n",
        "y = np.array([5,6,7,8])"
      ],
      "execution_count": 43,
      "outputs": []
    },
    {
      "cell_type": "code",
      "metadata": {
        "colab": {
          "base_uri": "https://localhost:8080/"
        },
        "id": "vhU4f8i9WZaJ",
        "outputId": "d0b9da00-a9fd-4653-91e6-99527990cbf2"
      },
      "source": [
        "X = np.c_[x,y]\n",
        "X"
      ],
      "execution_count": 44,
      "outputs": [
        {
          "output_type": "execute_result",
          "data": {
            "text/plain": [
              "array([[1, 5],\n",
              "       [2, 6],\n",
              "       [3, 7],\n",
              "       [4, 8]])"
            ]
          },
          "metadata": {
            "tags": []
          },
          "execution_count": 44
        }
      ]
    },
    {
      "cell_type": "code",
      "metadata": {
        "colab": {
          "base_uri": "https://localhost:8080/"
        },
        "id": "k7Os_pvLWZaJ",
        "outputId": "6b9dcf82-0c81-433d-82be-ab6a10083f13"
      },
      "source": [
        "Y = np.r_[x,y]\n",
        "Y"
      ],
      "execution_count": 45,
      "outputs": [
        {
          "output_type": "execute_result",
          "data": {
            "text/plain": [
              "array([1, 2, 3, 4, 5, 6, 7, 8])"
            ]
          },
          "metadata": {
            "tags": []
          },
          "execution_count": 45
        }
      ]
    },
    {
      "cell_type": "markdown",
      "metadata": {
        "id": "80UWWf0EWZaJ"
      },
      "source": [
        "### 【重點】array 的 `unzip`\n",
        "\n",
        "這裡其實只需要用到 array 的切割法...\n",
        "\n",
        "![array zip](https://github.com/chenhanchueh/IMLP342/blob/main/images/arrunzip.png?raw=1)"
      ]
    },
    {
      "cell_type": "code",
      "metadata": {
        "collapsed": true,
        "colab": {
          "base_uri": "https://localhost:8080/"
        },
        "id": "QekI_vR5WZaK",
        "outputId": "8ff86c53-4d55-48ad-dd67-025558548486"
      },
      "source": [
        "X[:,0]"
      ],
      "execution_count": 47,
      "outputs": [
        {
          "output_type": "execute_result",
          "data": {
            "text/plain": [
              "array([1, 2, 3, 4])"
            ]
          },
          "metadata": {
            "tags": []
          },
          "execution_count": 47
        }
      ]
    }
  ]
}