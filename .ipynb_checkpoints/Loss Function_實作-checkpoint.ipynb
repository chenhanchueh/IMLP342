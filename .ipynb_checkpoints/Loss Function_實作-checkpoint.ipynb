{
  "nbformat": 4,
  "nbformat_minor": 0,
  "metadata": {
    "kernelspec": {
      "display_name": "Python 3",
      "language": "python",
      "name": "python3"
    },
    "language_info": {
      "codemirror_mode": {
        "name": "ipython",
        "version": 3
      },
      "file_extension": ".py",
      "mimetype": "text/x-python",
      "name": "python",
      "nbconvert_exporter": "python",
      "pygments_lexer": "ipython3",
      "version": "3.8.8"
    },
    "colab": {
      "name": "Loss Function_實作-checkpoint.ipynb",
      "provenance": [],
      "include_colab_link": true
    }
  },
  "cells": [
    {
      "cell_type": "markdown",
      "metadata": {
        "id": "view-in-github",
        "colab_type": "text"
      },
      "source": [
        "<a href=\"https://colab.research.google.com/github/chenhanchueh/IMLP342/blob/main/.ipynb_checkpoints/Loss%20Function_%E5%AF%A6%E4%BD%9C-checkpoint.ipynb\" target=\"_parent\"><img src=\"https://colab.research.google.com/assets/colab-badge.svg\" alt=\"Open In Colab\"/></a>"
      ]
    },
    {
      "cell_type": "markdown",
      "metadata": {
        "id": "uzeWHZKb3UEp"
      },
      "source": [
        "\n",
        "# 評估指標實作篇\n",
        "建立一個機器學習模型後，需要計算評估指標分數，<br>\n",
        "從指標中獲得反饋看模型表現的優劣，再繼續改進模型，直到達到理想的指標分數。\n",
        "\n"
      ]
    },
    {
      "cell_type": "markdown",
      "metadata": {
        "id": "JDDytsfn3UEs"
      },
      "source": [
        "<img  src=\"https://github.com/chenhanchueh/IMLP342/blob/main/.ipynb_checkpoints/images/MAE.jpg?raw=1\" align='left'/><br><br><br><br><br>\n",
        "<img  src=\"https://github.com/chenhanchueh/IMLP342/blob/main/.ipynb_checkpoints/images/MSE.jpg?raw=1\" align='left'/><br><br><br><br><br>\n",
        "<img  src=\"https://github.com/chenhanchueh/IMLP342/blob/main/.ipynb_checkpoints/images/RMSE.jpg?raw=1\" align='left'/><br><br><br><br><br>\n",
        "\n",
        "ANS<br>\n",
        "MAE =  1.4916666666666665<br>\n",
        "MSE =  2.72875<br>\n",
        "RMSE =  1.651892853668179<br>\n"
      ]
    },
    {
      "cell_type": "code",
      "metadata": {
        "id": "_8j3d8ME3UEt"
      },
      "source": [
        "target = [1.5, 2.1, 3.3, -4.7, -2.3, 0.75]\n",
        "prediction = [0.5, 1.5, 2.1, -2.2, 0.1, -0.5]"
      ],
      "execution_count": 1,
      "outputs": []
    },
    {
      "cell_type": "code",
      "metadata": {
        "id": "hu3K_Bat3UEu",
        "outputId": "d3695fc8-4d26-4461-a9b9-fc4e12cd0c53",
        "colab": {
          "base_uri": "https://localhost:8080/"
        }
      },
      "source": [
        "#Ans\n",
        "import math\n",
        "error = []\n",
        "absError = []\n",
        "squaredError = []\n",
        "for i in range(len(target)):\n",
        "  value = target[i] - prediction[i]\n",
        "  error.append(value)\n",
        "  absError.append(abs(value))\n",
        "  squaredError.append(value * value)\n",
        "\n",
        "#平均絕對誤差MAE\n",
        "print(\"Absolute Value of Error: \", absError)\n",
        "print(\"MAE = \", sum(absError)/len(absError))\n",
        "\n",
        "#均方誤差MSE\n",
        "print(\"Square Error: \", squaredError)\n",
        "print(\"MSE = \", sum(squaredError)/len(squaredError))\n",
        "\n",
        "#均方根誤差RMSE\n",
        "print(\"RMSE = \", math.sqrt(sum(squaredError)/len(squaredError)))\n",
        "\n",
        " \n",
        "\n"
      ],
      "execution_count": 9,
      "outputs": [
        {
          "output_type": "stream",
          "text": [
            "Absolute Value of Error:  [1.0, 0.6000000000000001, 1.1999999999999997, 2.5, 2.4, 1.25]\n",
            "MAE =  1.4916666666666665\n",
            "Square Error:  [1.0, 0.3600000000000001, 1.4399999999999993, 6.25, 5.76, 1.5625]\n",
            "MSE =  2.72875\n",
            "RMSE =  1.651892853668179\n"
          ],
          "name": "stdout"
        }
      ]
    },
    {
      "cell_type": "markdown",
      "metadata": {
        "id": "fQ0QPQmu3UEu"
      },
      "source": [
        "#### other\n",
        "平均值 變異數 標準差"
      ]
    },
    {
      "cell_type": "code",
      "metadata": {
        "id": "HFE5JFYO3UEv",
        "outputId": "192365f1-43b7-4652-c01a-1bc1ed9d7fc0",
        "colab": {
          "base_uri": "https://localhost:8080/"
        }
      },
      "source": [
        "targetDeviation = []\n",
        "targetMean = sum(target) / len(target)#target平均值\n",
        "for val in target:\n",
        "    targetDeviation.append((val - targetMean) * (val - targetMean))\n",
        "print(\"Target Variance = \", sum(targetDeviation) / len(targetDeviation))#方差\n",
        "print(\"Target Standard Deviation = \", math.sqrt(sum(targetDeviation) / len(targetDeviation)))#標準差"
      ],
      "execution_count": 6,
      "outputs": [
        {
          "output_type": "stream",
          "text": [
            "Target Variance =  7.570347222222222\n",
            "Target Standard Deviation =  2.7514263977475797\n"
          ],
          "name": "stdout"
        }
      ]
    },
    {
      "cell_type": "markdown",
      "metadata": {
        "id": "F8hI9dU03UEv"
      },
      "source": [
        "# sklearn\n",
        "from sklearn import metrics\n",
        "\n",
        ">Mean Absolute Error (MAE)代表平均誤差，公式為所有實際值及預測值相減的絕對值平均。\n",
        "\n",
        ">Mean Squared Error (MSE)比起MSE可以拉開誤差差距，算是蠻常用的指標，公式所有實際值及預測值相減的平方的平均\n",
        "\n",
        ">Root Mean Squared Error (RMSE)代表MSE的平方根。比起MSE更為常用，因為更容易解釋y。\n"
      ]
    },
    {
      "cell_type": "code",
      "metadata": {
        "id": "75grFZx63UEv"
      },
      "source": [
        "y_test = [1.5, 2.1, 3.3, -4.7, -2.3, 0.75]\n",
        "predictions = [0.5, 1.5, 2.1, -2.2, 0.1, -0.5]"
      ],
      "execution_count": 7,
      "outputs": []
    },
    {
      "cell_type": "code",
      "metadata": {
        "id": "J2AEtiAB3UEw",
        "outputId": "8fb8c38f-307b-4001-e363-86eafd01c9db",
        "colab": {
          "base_uri": "https://localhost:8080/"
        }
      },
      "source": [
        "#載入迴歸常見的評估指標\n",
        "from sklearn import metrics\n",
        "import numpy as np\n",
        "\n",
        "MAE = metrics.mean_absolute_error(y_test,predictions)\n",
        "\n",
        "MSE = metrics.mean_squared_error(y_test,predictions)\n",
        "\n",
        "RMSE = np.sqrt(metrics.mean_squared_error(y_test,predictions))\n",
        "\n",
        "print(\"MAE =  \", MAE)\n",
        "print(\"MSE = \", MSE)\n",
        "print(\"RMSE = \", RMSE)"
      ],
      "execution_count": 8,
      "outputs": [
        {
          "output_type": "stream",
          "text": [
            "MAE =   1.4916666666666665\n",
            "MSE =  2.72875\n",
            "RMSE =  1.651892853668179\n"
          ],
          "name": "stdout"
        }
      ]
    }
  ]
}