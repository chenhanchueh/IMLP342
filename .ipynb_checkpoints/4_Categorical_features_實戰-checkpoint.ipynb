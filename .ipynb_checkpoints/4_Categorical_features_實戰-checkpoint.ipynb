{
  "nbformat": 4,
  "nbformat_minor": 0,
  "metadata": {
    "kernelspec": {
      "display_name": "Python 3",
      "language": "python",
      "name": "python3"
    },
    "language_info": {
      "codemirror_mode": {
        "name": "ipython",
        "version": 3
      },
      "file_extension": ".py",
      "mimetype": "text/x-python",
      "name": "python",
      "nbconvert_exporter": "python",
      "pygments_lexer": "ipython3",
      "version": "3.8.8"
    },
    "colab": {
      "name": "4_Categorical_features_實戰-checkpoint.ipynb",
      "provenance": [],
      "include_colab_link": true
    }
  },
  "cells": [
    {
      "cell_type": "markdown",
      "metadata": {
        "id": "view-in-github",
        "colab_type": "text"
      },
      "source": [
        "<a href=\"https://colab.research.google.com/github/chenhanchueh/IMLP342/blob/main/.ipynb_checkpoints/4_Categorical_features_%E5%AF%A6%E6%88%B0-checkpoint.ipynb\" target=\"_parent\"><img src=\"https://colab.research.google.com/assets/colab-badge.svg\" alt=\"Open In Colab\"/></a>"
      ]
    },
    {
      "cell_type": "markdown",
      "metadata": {
        "id": "Po5_-uLNXu6-"
      },
      "source": [
        "# 資料前處理(Label encoding、 One hot encoding)\n",
        "這兩個編碼方式的目的是為了將類別 (categorical)或是文字(text)的資料轉換成數字，而讓程式能夠更好的去理解及運算。\n",
        "> Label encoding : 把每個類別 mapping 到某個整數，不會增加新欄位\n",
        "\n",
        "> One hot encoding : 為每個類別新增一個欄位，用 0/1 表示是否\n",
        "\n",
        "![](https://github.com/chenhanchueh/IMLP342/blob/main/.ipynb_checkpoints/images/Encoder.PNG?raw=1)\n",
        "\n",
        "\n",
        "## Encoding Categorical features (or label)\n",
        "![](https://github.com/chenhanchueh/IMLP342/blob/main/.ipynb_checkpoints/images/Encoding.PNG?raw=1)\n"
      ]
    },
    {
      "cell_type": "code",
      "metadata": {
        "id": "jd5jf9BoXu7B"
      },
      "source": [
        "import pandas as pd\n",
        "import numpy as np\n"
      ],
      "execution_count": 1,
      "outputs": []
    },
    {
      "cell_type": "code",
      "metadata": {
        "id": "CGB-bdqsXu7C",
        "outputId": "af9fac64-5e1c-4d1b-f334-3875fd5e5732",
        "colab": {
          "base_uri": "https://localhost:8080/",
          "height": 202
        }
      },
      "source": [
        "df = pd.DataFrame({'blood':['A','B','AB','O','B'], \n",
        "                   'Y':['high','low','high','mid','mid'],\n",
        "                   'Z':[np.nan,np.nan,-1196,72,83]});\n",
        "df"
      ],
      "execution_count": 2,
      "outputs": [
        {
          "output_type": "execute_result",
          "data": {
            "text/html": [
              "<div>\n",
              "<style scoped>\n",
              "    .dataframe tbody tr th:only-of-type {\n",
              "        vertical-align: middle;\n",
              "    }\n",
              "\n",
              "    .dataframe tbody tr th {\n",
              "        vertical-align: top;\n",
              "    }\n",
              "\n",
              "    .dataframe thead th {\n",
              "        text-align: right;\n",
              "    }\n",
              "</style>\n",
              "<table border=\"1\" class=\"dataframe\">\n",
              "  <thead>\n",
              "    <tr style=\"text-align: right;\">\n",
              "      <th></th>\n",
              "      <th>blood</th>\n",
              "      <th>Y</th>\n",
              "      <th>Z</th>\n",
              "    </tr>\n",
              "  </thead>\n",
              "  <tbody>\n",
              "    <tr>\n",
              "      <th>0</th>\n",
              "      <td>A</td>\n",
              "      <td>high</td>\n",
              "      <td>NaN</td>\n",
              "    </tr>\n",
              "    <tr>\n",
              "      <th>1</th>\n",
              "      <td>B</td>\n",
              "      <td>low</td>\n",
              "      <td>NaN</td>\n",
              "    </tr>\n",
              "    <tr>\n",
              "      <th>2</th>\n",
              "      <td>AB</td>\n",
              "      <td>high</td>\n",
              "      <td>-1196.0</td>\n",
              "    </tr>\n",
              "    <tr>\n",
              "      <th>3</th>\n",
              "      <td>O</td>\n",
              "      <td>mid</td>\n",
              "      <td>72.0</td>\n",
              "    </tr>\n",
              "    <tr>\n",
              "      <th>4</th>\n",
              "      <td>B</td>\n",
              "      <td>mid</td>\n",
              "      <td>83.0</td>\n",
              "    </tr>\n",
              "  </tbody>\n",
              "</table>\n",
              "</div>"
            ],
            "text/plain": [
              "  blood     Y       Z\n",
              "0     A  high     NaN\n",
              "1     B   low     NaN\n",
              "2    AB  high -1196.0\n",
              "3     O   mid    72.0\n",
              "4     B   mid    83.0"
            ]
          },
          "metadata": {
            "tags": []
          },
          "execution_count": 2
        }
      ]
    },
    {
      "cell_type": "markdown",
      "metadata": {
        "id": "hxByscb2Xu7C"
      },
      "source": [
        "# 方法一：sklearn - label encoder + onehot encoder\n",
        ">onehot encoder要用2D array，若維度所以要用reshape(-1,1)<br>\n",
        ">onehot encoder要數字，若資料文文字要先用label encoder轉數字"
      ]
    },
    {
      "cell_type": "code",
      "metadata": {
        "id": "Hpv5Yow6Xu7D",
        "outputId": "3527e1c8-de47-4704-a851-cbd457f2bacd",
        "colab": {
          "base_uri": "https://localhost:8080/",
          "height": 219
        }
      },
      "source": [
        "from sklearn.preprocessing import LabelEncoder\n",
        "\n",
        "encoder = LabelEncoder()\n",
        "encoder_y = encoder.fit_transform(df[\"blood\"])\n",
        "print(encoder_y)\n",
        "df[\"blood\"] = encoder_y\n",
        "df"
      ],
      "execution_count": 3,
      "outputs": [
        {
          "output_type": "stream",
          "text": [
            "[0 2 1 3 2]\n"
          ],
          "name": "stdout"
        },
        {
          "output_type": "execute_result",
          "data": {
            "text/html": [
              "<div>\n",
              "<style scoped>\n",
              "    .dataframe tbody tr th:only-of-type {\n",
              "        vertical-align: middle;\n",
              "    }\n",
              "\n",
              "    .dataframe tbody tr th {\n",
              "        vertical-align: top;\n",
              "    }\n",
              "\n",
              "    .dataframe thead th {\n",
              "        text-align: right;\n",
              "    }\n",
              "</style>\n",
              "<table border=\"1\" class=\"dataframe\">\n",
              "  <thead>\n",
              "    <tr style=\"text-align: right;\">\n",
              "      <th></th>\n",
              "      <th>blood</th>\n",
              "      <th>Y</th>\n",
              "      <th>Z</th>\n",
              "    </tr>\n",
              "  </thead>\n",
              "  <tbody>\n",
              "    <tr>\n",
              "      <th>0</th>\n",
              "      <td>0</td>\n",
              "      <td>high</td>\n",
              "      <td>NaN</td>\n",
              "    </tr>\n",
              "    <tr>\n",
              "      <th>1</th>\n",
              "      <td>2</td>\n",
              "      <td>low</td>\n",
              "      <td>NaN</td>\n",
              "    </tr>\n",
              "    <tr>\n",
              "      <th>2</th>\n",
              "      <td>1</td>\n",
              "      <td>high</td>\n",
              "      <td>-1196.0</td>\n",
              "    </tr>\n",
              "    <tr>\n",
              "      <th>3</th>\n",
              "      <td>3</td>\n",
              "      <td>mid</td>\n",
              "      <td>72.0</td>\n",
              "    </tr>\n",
              "    <tr>\n",
              "      <th>4</th>\n",
              "      <td>2</td>\n",
              "      <td>mid</td>\n",
              "      <td>83.0</td>\n",
              "    </tr>\n",
              "  </tbody>\n",
              "</table>\n",
              "</div>"
            ],
            "text/plain": [
              "   blood     Y       Z\n",
              "0      0  high     NaN\n",
              "1      2   low     NaN\n",
              "2      1  high -1196.0\n",
              "3      3   mid    72.0\n",
              "4      2   mid    83.0"
            ]
          },
          "metadata": {
            "tags": []
          },
          "execution_count": 3
        }
      ]
    },
    {
      "cell_type": "code",
      "metadata": {
        "id": "FS-GgV3HXu7D",
        "outputId": "35676251-ad0d-44cd-95ed-e7de7c2b6942",
        "colab": {
          "base_uri": "https://localhost:8080/"
        }
      },
      "source": [
        "from sklearn.preprocessing import OneHotEncoder\n",
        "\n",
        "onehot = OneHotEncoder()\n",
        "d = np.array(df[\"blood\"])\n",
        "onehot_df = onehot.fit_transform(d.reshape(-1,1)).toarray()\n",
        "onehot_df"
      ],
      "execution_count": 5,
      "outputs": [
        {
          "output_type": "execute_result",
          "data": {
            "text/plain": [
              "array([[1., 0., 0., 0.],\n",
              "       [0., 0., 1., 0.],\n",
              "       [0., 1., 0., 0.],\n",
              "       [0., 0., 0., 1.],\n",
              "       [0., 0., 1., 0.]])"
            ]
          },
          "metadata": {
            "tags": []
          },
          "execution_count": 5
        }
      ]
    },
    {
      "cell_type": "markdown",
      "metadata": {
        "id": "DcCVHVVuXu7D"
      },
      "source": [
        "## One hot encoding\n",
        "One Hot encoding的編碼邏輯為將類別拆成多個行(column)，每個列中的數值由1、0替代，當某一列的資料存在的該行的類別則顯示1，反則顯示0。\n",
        "\n",
        "然在指定column進行編碼的情形下，One hot encoding<b>無法直接對字串進行編碼，必須先透過Label encoding將字串以數字取代後再進行One hot encoding處理。</b>\n",
        "\n",
        "> categorical_features = [0]: 表示欲在data上執行One hot encoding的index為0\n",
        "\n",
        "> data_le: 為經過Label encoding編碼的資料(註:OneHotEncoder的輸入要為2-D array，而Label encoding為1-D array)\n"
      ]
    },
    {
      "cell_type": "markdown",
      "metadata": {
        "id": "ruA3S-WHXu7E"
      },
      "source": [
        "OneHotEncoder會轉出scipy.csr_matrix資料結構用.toarray()轉array\n",
        "從結果可以知道，數字0的column 代表的是A、數字1的column 代表的是B，而數字2的column 代表的是AB。\n",
        "除了轉換字串外，One hot encoding也可以轉換數字。在此處的data就不需要先經過Label encoding編碼\n",
        "\n",
        "```python\n",
        "# importing one hot encoder from sklearn \n",
        "# There are changes in OneHotEncoder class \n",
        "from sklearn.preprocessing import OneHotEncoder \n",
        "from sklearn.compose import ColumnTransformer \n",
        "   \n",
        "# creating one hot encoder object with categorical feature 0 \n",
        "# indicating the first column \n",
        "columnTransformer = ColumnTransformer([('encoder', \n",
        "                                        OneHotEncoder(), \n",
        "                                        [0])], \n",
        "                                      remainder='passthrough') \n",
        "  \n",
        "data = np.array(columnTransformer.fit_transform(data), dtype = str) \n",
        "```"
      ]
    },
    {
      "cell_type": "code",
      "metadata": {
        "id": "jTs_SHSeXu7E",
        "outputId": "48982edb-0017-4628-e35a-ad31955af8be",
        "colab": {
          "base_uri": "https://localhost:8080/"
        }
      },
      "source": [
        "# importing one hot encoder from sklearn \n",
        "# There are changes in OneHotEncoder class \n",
        "from sklearn.preprocessing import OneHotEncoder \n",
        "from sklearn.compose import ColumnTransformer \n",
        "\n",
        "# creating one hot encoder object with categorical feature 0 \n",
        "# indicating the first column \n",
        "columnTransformer = ColumnTransformer([('encoder', \n",
        "                     OneHotEncoder(), \n",
        "                     [0])], \n",
        "                    remainder='passthrough') \n",
        "\n",
        "data = np.array(columnTransformer.fit_transform(df), dtype = str) \n",
        "data"
      ],
      "execution_count": 11,
      "outputs": [
        {
          "output_type": "execute_result",
          "data": {
            "text/plain": [
              "array([['1.0', '0.0', '0.0', '0.0', 'high', 'nan'],\n",
              "       ['0.0', '0.0', '1.0', '0.0', 'low', 'nan'],\n",
              "       ['0.0', '1.0', '0.0', '0.0', 'high', '-1196.0'],\n",
              "       ['0.0', '0.0', '0.0', '1.0', 'mid', '72.0'],\n",
              "       ['0.0', '0.0', '1.0', '0.0', 'mid', '83.0']], dtype='<U7')"
            ]
          },
          "metadata": {
            "tags": []
          },
          "execution_count": 11
        }
      ]
    },
    {
      "cell_type": "markdown",
      "metadata": {
        "id": "3PVqar7YXu7F"
      },
      "source": [
        "# 方法二：Keras - label encoder + to_categorical\n",
        ">to_categorical要數字，若資料文文字要先用label encoder轉數字"
      ]
    },
    {
      "cell_type": "code",
      "metadata": {
        "id": "HbbJSikXXu7F",
        "outputId": "ef6259aa-6f81-440b-f3f6-8817c92fad3b",
        "colab": {
          "base_uri": "https://localhost:8080/"
        }
      },
      "source": [
        "from sklearn.preprocessing import LabelEncoder\n",
        "from keras.utils import np_utils\n",
        "\n",
        "df = pd.DataFrame({'blood':['A','B','AB','O','B'], \n",
        "                   'Y':['high','low','high','mid','mid'],\n",
        "                   'Z':[np.nan,np.nan,-1196,72,83]});\n",
        "\n",
        "# label encoder \n",
        "encoder = LabelEncoder()\n",
        "encoder_y = encoder.fit_transform(df[\"blood\"])\n",
        "print(encoder_y)\n",
        "df[\"blood\"] = encoder_y\n",
        "df\n",
        "\n",
        "# convert integers to one hot encoding\n",
        "keras_onehot = np_utils.to_categorical(encoder_y)\n",
        "keras_onehot"
      ],
      "execution_count": 12,
      "outputs": [
        {
          "output_type": "stream",
          "text": [
            "[0 2 1 3 2]\n"
          ],
          "name": "stdout"
        },
        {
          "output_type": "execute_result",
          "data": {
            "text/plain": [
              "array([[1., 0., 0., 0.],\n",
              "       [0., 0., 1., 0.],\n",
              "       [0., 1., 0., 0.],\n",
              "       [0., 0., 0., 1.],\n",
              "       [0., 0., 1., 0.]], dtype=float32)"
            ]
          },
          "metadata": {
            "tags": []
          },
          "execution_count": 12
        }
      ]
    },
    {
      "cell_type": "markdown",
      "metadata": {
        "id": "wUQW8K5-Xu7F"
      },
      "source": [
        "## 方法三：pd.get_dummies方法\n",
        "![](https://github.com/chenhanchueh/IMLP342/blob/main/.ipynb_checkpoints/images/Encoding_pd.PNG?raw=1)\n",
        "pd.get_dummies(df)\n",
        ">get_dummies可以直接轉字串，反而無法轉換數字<br>\n",
        ">get_dummies沒指定columns，會全部轉換"
      ]
    },
    {
      "cell_type": "code",
      "metadata": {
        "id": "jiuSM--RXu7G",
        "outputId": "6d1e85dc-4580-4920-b479-74b213c91a3a",
        "colab": {
          "base_uri": "https://localhost:8080/"
        }
      },
      "source": [
        "df = pd.DataFrame({'blood':['A','B','AB','O','B'], \n",
        "                   'Y':['high','low','high','mid','mid'],\n",
        "                   'Z':[np.nan,np.nan,-1196,72,83]})\n",
        "df1 = pd.get_dummies(df)\n",
        "print(df1)"
      ],
      "execution_count": 15,
      "outputs": [
        {
          "output_type": "stream",
          "text": [
            "        Z  blood_A  blood_AB  blood_B  blood_O  Y_high  Y_low  Y_mid\n",
            "0     NaN        1         0        0        0       1      0      0\n",
            "1     NaN        0         0        1        0       0      1      0\n",
            "2 -1196.0        0         1        0        0       1      0      0\n",
            "3    72.0        0         0        0        1       0      0      1\n",
            "4    83.0        0         0        1        0       0      0      1\n"
          ],
          "name": "stdout"
        }
      ]
    },
    {
      "cell_type": "markdown",
      "metadata": {
        "id": "DUZt5QPtXu7G"
      },
      "source": [
        "## 練習一：sklearn - label encoder + onehot encoder\n",
        "下面的資料可以看到country那欄皆為字串， 大部分的模型都是基於數學運算，字串無法套入數學模型進行運算，<br>\n",
        "在此先對其進行Label encoding編碼，我們從 sklearn library中導入 LabelEncoder class，對第一行資料進行fit及transform並取代之。"
      ]
    },
    {
      "cell_type": "code",
      "metadata": {
        "id": "E-dovhorXu7G",
        "outputId": "7dcd441b-1fe4-4407-ed8b-34506f998b7d",
        "colab": {
          "base_uri": "https://localhost:8080/"
        }
      },
      "source": [
        "import numpy as np\n",
        "import pandas as pd\n",
        "\n",
        "country=['Taiwan','Australia','Ireland','Australia','Ireland','Taiwan']\n",
        "age=[25,30,45,35,22,36]\n",
        "salary=[20000,32000,59000,60000,43000,52000]\n",
        "dic={'Country':country,'Age':age,'Salary':salary}\n",
        "data=pd.DataFrame(dic)\n",
        "data\n",
        "\n",
        "from sklearn.preprocessing import LabelEncoder\n",
        "encoder = LabelEncoder()\n",
        "encoder_y = encoder.fit_transform(data[\"Country\"])\n",
        "print(encoder_y)\n",
        "data[\"Country\"] = encoder_y\n",
        "data\n",
        "\n",
        "from sklearn.preprocessing import OneHotEncoder\n",
        "onehot = OneHotEncoder()\n",
        "d = np.array(data[\"Country\"])\n",
        "onehot_data = onehot.fit_transform(d.reshape(-1,1)).toarray()\n",
        "onehot_data"
      ],
      "execution_count": 26,
      "outputs": [
        {
          "output_type": "stream",
          "text": [
            "[2 0 1 0 1 2]\n"
          ],
          "name": "stdout"
        },
        {
          "output_type": "execute_result",
          "data": {
            "text/plain": [
              "array([[0., 0., 1.],\n",
              "       [1., 0., 0.],\n",
              "       [0., 1., 0.],\n",
              "       [1., 0., 0.],\n",
              "       [0., 1., 0.],\n",
              "       [0., 0., 1.]])"
            ]
          },
          "metadata": {
            "tags": []
          },
          "execution_count": 26
        }
      ]
    },
    {
      "cell_type": "markdown",
      "metadata": {
        "id": "LRdF-HHbXu7G"
      },
      "source": [
        "## 練習二：Keras - label encoder + to_categorical"
      ]
    },
    {
      "cell_type": "code",
      "metadata": {
        "id": "PYSqgE1mXu7H",
        "outputId": "86e60d79-ced2-4086-fd8f-545d143effe6",
        "colab": {
          "base_uri": "https://localhost:8080/"
        }
      },
      "source": [
        "from sklearn.preprocessing import LabelEncoder\n",
        "from keras.utils import np_utils\n",
        "\n",
        "country=['Taiwan','Australia','Ireland','Australia','Ireland','Taiwan']\n",
        "age=[25,30,45,35,22,36]\n",
        "salary=[20000,32000,59000,60000,43000,52000]\n",
        "dic={'Country':country,'Age':age,'Salary':salary}\n",
        "data=pd.DataFrame(dic)\n",
        "data\n",
        "\n",
        "encoder = LabelEncoder()\n",
        "encoder_y = encoder.fit_transform(data[\"Country\"])\n",
        "print(encoder_y)\n",
        "data[\"Country\"] = encoder_y\n",
        "data\n",
        "\n",
        "keras_onehot = np_utils.to_categorical(encoder_y)\n",
        "keras_onehot"
      ],
      "execution_count": 27,
      "outputs": [
        {
          "output_type": "stream",
          "text": [
            "[2 0 1 0 1 2]\n"
          ],
          "name": "stdout"
        },
        {
          "output_type": "execute_result",
          "data": {
            "text/plain": [
              "array([[0., 0., 1.],\n",
              "       [1., 0., 0.],\n",
              "       [0., 1., 0.],\n",
              "       [1., 0., 0.],\n",
              "       [0., 1., 0.],\n",
              "       [0., 0., 1.]], dtype=float32)"
            ]
          },
          "metadata": {
            "tags": []
          },
          "execution_count": 27
        }
      ]
    },
    {
      "cell_type": "markdown",
      "metadata": {
        "id": "Ehbex_8xXu7H"
      },
      "source": [
        "## 練習三：Pandas.get_dummies\n",
        ">　get_dummies : 僅能將字串轉換為One hot encoding表示形式， 沒指定columns會全部轉換。"
      ]
    },
    {
      "cell_type": "code",
      "metadata": {
        "id": "-TgS1Lg_Xu7H",
        "outputId": "fb6a82be-db91-4b92-dc5a-1e940ff54ff3",
        "colab": {
          "base_uri": "https://localhost:8080/"
        }
      },
      "source": [
        "country=['Taiwan','Australia','Ireland','Australia','Ireland','Taiwan']\n",
        "age=[25,30,45,35,22,36]\n",
        "salary=[20000,32000,59000,60000,43000,52000]\n",
        "dic={'Country':country,'Age':age,'Salary':salary}\n",
        "data=pd.DataFrame(dic)\n",
        "data\n",
        "\n",
        "df1 = pd.get_dummies(data)\n",
        "print(df1)"
      ],
      "execution_count": 17,
      "outputs": [
        {
          "output_type": "stream",
          "text": [
            "   Age  Salary  Country_Australia  Country_Ireland  Country_Taiwan\n",
            "0   25   20000                  0                0               1\n",
            "1   30   32000                  1                0               0\n",
            "2   45   59000                  0                1               0\n",
            "3   35   60000                  1                0               0\n",
            "4   22   43000                  0                1               0\n",
            "5   36   52000                  0                0               1\n"
          ],
          "name": "stdout"
        }
      ]
    }
  ]
}